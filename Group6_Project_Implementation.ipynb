{
 "cells": [
  {
   "cell_type": "markdown",
   "metadata": {},
   "source": [
    "##### <h1 style=\"text-align:center\"> Drexel University </h1>\n",
    "<h2 style = \"text-align:center\"> College of Computing and Informatics</h2>\n",
    "<h2 style = \"text-align:center\">INFO T780: Applied Machine Learning</h2>\n",
    "<h3 style = \"text-align:center\">GROUP 6: PROJECT TITLE : PASSENGER SURVIVAL PREDICTION ON TITANIC DATASET </h3>\n",
    "<h4> </h4>\n"
   ]
  },
  {
   "cell_type": "markdown",
   "metadata": {},
   "source": [
    "#### GROUP MEMEBERS:\n",
    "\n",
    "Tej Gottapu (tg672@drexel.edu)\n",
    "Dhilipan Dushendran(dd3255@drexel.edu)"
   ]
  },
  {
   "cell_type": "markdown",
   "metadata": {},
   "source": [
    "### Import Libraries"
   ]
  },
  {
   "cell_type": "code",
   "execution_count": 18,
   "metadata": {},
   "outputs": [],
   "source": [
    "import pandas as pd\n",
    "import numpy as np\n",
    "import seaborn as sns\n",
    "from sklearn.pipeline import Pipeline\n",
    "sns.set()\n",
    "%matplotlib inline\n",
    "import matplotlib\n",
    "import matplotlib.pyplot as plt\n",
    "from sklearn.datasets import make_classification\n",
    "from sklearn.metrics import plot_confusion_matrix\n",
    "from sklearn import datasets\n",
    "from sklearn.model_selection import train_test_split\n",
    "from sklearn.model_selection import GridSearchCV\n",
    "from sklearn.metrics import classification_report\n",
    "from sklearn.svm import SVC\n",
    "from sklearn.model_selection import GridSearchCV, RepeatedStratifiedKFold\n",
    "# Ignore warnings\n",
    "import warnings\n",
    "warnings.filterwarnings('ignore')\n",
    "import sklearn\n",
    "from sklearn import metrics\n",
    "from sklearn.svm import SVC\n",
    "from sklearn.linear_model import LogisticRegression\n",
    "from sklearn.ensemble import RandomForestClassifier\n",
    "from sklearn.tree import export_graphviz, DecisionTreeClassifier\n",
    "from sklearn.preprocessing import StandardScaler\n",
    "from sklearn.model_selection import cross_val_score, train_test_split\n",
    "from sklearn.exceptions import NotFittedError\n",
    "from sklearn.metrics import mean_squared_error\n",
    "from sklearn.metrics import mean_absolute_error\n",
    "import numpy as np\n",
    "from sklearn import linear_model, datasets\n",
    "from sklearn.model_selection import GridSearchCV\n",
    "from IPython.display import display\n",
    "# Common imports\n",
    "import numpy as np\n",
    "import pandas as pd\n",
    "# To plot pretty figures\n",
    "%matplotlib inline\n",
    "import matplotlib.pyplot as plt\n",
    "import matplotlib.image as mpimg\n",
    "import matplotlib.pyplot as plt\n",
    "import seaborn as sns\n",
    "import pandas as pd \n",
    "import missingno as msno \n",
    "# to make this notebook's output identical at every run\n",
    "np.random.seed(42)\n",
    "# Ignore useless warnings\n",
    "import warnings\n",
    "warnings.filterwarnings(action=\"ignore\", message=\"^internal gelsd\")\n",
    "import pandas as pd\n",
    "from sklearn.model_selection import train_test_split\n",
    "from sklearn.decomposition import PCA\n",
    "from sklearn.linear_model import LogisticRegression\n",
    "from sklearn.metrics import f1_score, precision_score, recall_score\n",
    "from sklearn.metrics import confusion_matrix\n",
    "\n",
    "import keras\n",
    "from keras.models import Sequential\n",
    "from keras.layers import Dense, Dropout\n",
    "from keras import optimizers\n",
    "from keras.wrappers.scikit_learn import KerasClassifier\n",
    "from sklearn.ensemble import VotingClassifier"
   ]
  },
  {
   "cell_type": "markdown",
   "metadata": {},
   "source": [
    "### Read Data "
   ]
  },
  {
   "cell_type": "code",
   "execution_count": 19,
   "metadata": {},
   "outputs": [],
   "source": [
    "\n",
    "train_data = pd.read_csv('C:/Users/HP/Documents/CCI LAPTOP FRESH/SUMMER QUARTER/INFO-T780-002 Applied Machine Learning/PROJECT PROPOSAL/TITANIC/train.csv')\n",
    "\n",
    "test_data = pd.read_csv('C:/Users/HP/Documents/CCI LAPTOP FRESH/SUMMER QUARTER/INFO-T780-002 Applied Machine Learning/PROJECT PROPOSAL/TITANIC/test.csv')"
   ]
  },
  {
   "cell_type": "code",
   "execution_count": 20,
   "metadata": {},
   "outputs": [
    {
     "data": {
      "text/html": [
       "<div>\n",
       "<style scoped>\n",
       "    .dataframe tbody tr th:only-of-type {\n",
       "        vertical-align: middle;\n",
       "    }\n",
       "\n",
       "    .dataframe tbody tr th {\n",
       "        vertical-align: top;\n",
       "    }\n",
       "\n",
       "    .dataframe thead th {\n",
       "        text-align: right;\n",
       "    }\n",
       "</style>\n",
       "<table border=\"1\" class=\"dataframe\">\n",
       "  <thead>\n",
       "    <tr style=\"text-align: right;\">\n",
       "      <th></th>\n",
       "      <th>PassengerId</th>\n",
       "      <th>Survived</th>\n",
       "      <th>Pclass</th>\n",
       "      <th>Name</th>\n",
       "      <th>Sex</th>\n",
       "      <th>Age</th>\n",
       "      <th>SibSp</th>\n",
       "      <th>Parch</th>\n",
       "      <th>Ticket</th>\n",
       "      <th>Fare</th>\n",
       "      <th>Cabin</th>\n",
       "      <th>Embarked</th>\n",
       "    </tr>\n",
       "  </thead>\n",
       "  <tbody>\n",
       "    <tr>\n",
       "      <td>0</td>\n",
       "      <td>1</td>\n",
       "      <td>0</td>\n",
       "      <td>3</td>\n",
       "      <td>Braund, Mr. Owen Harris</td>\n",
       "      <td>male</td>\n",
       "      <td>22.0</td>\n",
       "      <td>1</td>\n",
       "      <td>0</td>\n",
       "      <td>A/5 21171</td>\n",
       "      <td>7.2500</td>\n",
       "      <td>NaN</td>\n",
       "      <td>S</td>\n",
       "    </tr>\n",
       "    <tr>\n",
       "      <td>1</td>\n",
       "      <td>2</td>\n",
       "      <td>1</td>\n",
       "      <td>1</td>\n",
       "      <td>Cumings, Mrs. John Bradley (Florence Briggs Th...</td>\n",
       "      <td>female</td>\n",
       "      <td>38.0</td>\n",
       "      <td>1</td>\n",
       "      <td>0</td>\n",
       "      <td>PC 17599</td>\n",
       "      <td>71.2833</td>\n",
       "      <td>C85</td>\n",
       "      <td>C</td>\n",
       "    </tr>\n",
       "    <tr>\n",
       "      <td>2</td>\n",
       "      <td>3</td>\n",
       "      <td>1</td>\n",
       "      <td>3</td>\n",
       "      <td>Heikkinen, Miss. Laina</td>\n",
       "      <td>female</td>\n",
       "      <td>26.0</td>\n",
       "      <td>0</td>\n",
       "      <td>0</td>\n",
       "      <td>STON/O2. 3101282</td>\n",
       "      <td>7.9250</td>\n",
       "      <td>NaN</td>\n",
       "      <td>S</td>\n",
       "    </tr>\n",
       "    <tr>\n",
       "      <td>3</td>\n",
       "      <td>4</td>\n",
       "      <td>1</td>\n",
       "      <td>1</td>\n",
       "      <td>Futrelle, Mrs. Jacques Heath (Lily May Peel)</td>\n",
       "      <td>female</td>\n",
       "      <td>35.0</td>\n",
       "      <td>1</td>\n",
       "      <td>0</td>\n",
       "      <td>113803</td>\n",
       "      <td>53.1000</td>\n",
       "      <td>C123</td>\n",
       "      <td>S</td>\n",
       "    </tr>\n",
       "    <tr>\n",
       "      <td>4</td>\n",
       "      <td>5</td>\n",
       "      <td>0</td>\n",
       "      <td>3</td>\n",
       "      <td>Allen, Mr. William Henry</td>\n",
       "      <td>male</td>\n",
       "      <td>35.0</td>\n",
       "      <td>0</td>\n",
       "      <td>0</td>\n",
       "      <td>373450</td>\n",
       "      <td>8.0500</td>\n",
       "      <td>NaN</td>\n",
       "      <td>S</td>\n",
       "    </tr>\n",
       "  </tbody>\n",
       "</table>\n",
       "</div>"
      ],
      "text/plain": [
       "   PassengerId  Survived  Pclass  \\\n",
       "0            1         0       3   \n",
       "1            2         1       1   \n",
       "2            3         1       3   \n",
       "3            4         1       1   \n",
       "4            5         0       3   \n",
       "\n",
       "                                                Name     Sex   Age  SibSp  \\\n",
       "0                            Braund, Mr. Owen Harris    male  22.0      1   \n",
       "1  Cumings, Mrs. John Bradley (Florence Briggs Th...  female  38.0      1   \n",
       "2                             Heikkinen, Miss. Laina  female  26.0      0   \n",
       "3       Futrelle, Mrs. Jacques Heath (Lily May Peel)  female  35.0      1   \n",
       "4                           Allen, Mr. William Henry    male  35.0      0   \n",
       "\n",
       "   Parch            Ticket     Fare Cabin Embarked  \n",
       "0      0         A/5 21171   7.2500   NaN        S  \n",
       "1      0          PC 17599  71.2833   C85        C  \n",
       "2      0  STON/O2. 3101282   7.9250   NaN        S  \n",
       "3      0            113803  53.1000  C123        S  \n",
       "4      0            373450   8.0500   NaN        S  "
      ]
     },
     "execution_count": 20,
     "metadata": {},
     "output_type": "execute_result"
    }
   ],
   "source": [
    "train_data.head(5)"
   ]
  },
  {
   "cell_type": "code",
   "execution_count": 21,
   "metadata": {},
   "outputs": [
    {
     "data": {
      "text/html": [
       "<div>\n",
       "<style scoped>\n",
       "    .dataframe tbody tr th:only-of-type {\n",
       "        vertical-align: middle;\n",
       "    }\n",
       "\n",
       "    .dataframe tbody tr th {\n",
       "        vertical-align: top;\n",
       "    }\n",
       "\n",
       "    .dataframe thead th {\n",
       "        text-align: right;\n",
       "    }\n",
       "</style>\n",
       "<table border=\"1\" class=\"dataframe\">\n",
       "  <thead>\n",
       "    <tr style=\"text-align: right;\">\n",
       "      <th></th>\n",
       "      <th>PassengerId</th>\n",
       "      <th>Pclass</th>\n",
       "      <th>Name</th>\n",
       "      <th>Sex</th>\n",
       "      <th>Age</th>\n",
       "      <th>SibSp</th>\n",
       "      <th>Parch</th>\n",
       "      <th>Ticket</th>\n",
       "      <th>Fare</th>\n",
       "      <th>Cabin</th>\n",
       "      <th>Embarked</th>\n",
       "    </tr>\n",
       "  </thead>\n",
       "  <tbody>\n",
       "    <tr>\n",
       "      <td>0</td>\n",
       "      <td>892</td>\n",
       "      <td>3</td>\n",
       "      <td>Kelly, Mr. James</td>\n",
       "      <td>male</td>\n",
       "      <td>34.5</td>\n",
       "      <td>0</td>\n",
       "      <td>0</td>\n",
       "      <td>330911</td>\n",
       "      <td>7.8292</td>\n",
       "      <td>NaN</td>\n",
       "      <td>Q</td>\n",
       "    </tr>\n",
       "    <tr>\n",
       "      <td>1</td>\n",
       "      <td>893</td>\n",
       "      <td>3</td>\n",
       "      <td>Wilkes, Mrs. James (Ellen Needs)</td>\n",
       "      <td>female</td>\n",
       "      <td>47.0</td>\n",
       "      <td>1</td>\n",
       "      <td>0</td>\n",
       "      <td>363272</td>\n",
       "      <td>7.0000</td>\n",
       "      <td>NaN</td>\n",
       "      <td>S</td>\n",
       "    </tr>\n",
       "    <tr>\n",
       "      <td>2</td>\n",
       "      <td>894</td>\n",
       "      <td>2</td>\n",
       "      <td>Myles, Mr. Thomas Francis</td>\n",
       "      <td>male</td>\n",
       "      <td>62.0</td>\n",
       "      <td>0</td>\n",
       "      <td>0</td>\n",
       "      <td>240276</td>\n",
       "      <td>9.6875</td>\n",
       "      <td>NaN</td>\n",
       "      <td>Q</td>\n",
       "    </tr>\n",
       "    <tr>\n",
       "      <td>3</td>\n",
       "      <td>895</td>\n",
       "      <td>3</td>\n",
       "      <td>Wirz, Mr. Albert</td>\n",
       "      <td>male</td>\n",
       "      <td>27.0</td>\n",
       "      <td>0</td>\n",
       "      <td>0</td>\n",
       "      <td>315154</td>\n",
       "      <td>8.6625</td>\n",
       "      <td>NaN</td>\n",
       "      <td>S</td>\n",
       "    </tr>\n",
       "    <tr>\n",
       "      <td>4</td>\n",
       "      <td>896</td>\n",
       "      <td>3</td>\n",
       "      <td>Hirvonen, Mrs. Alexander (Helga E Lindqvist)</td>\n",
       "      <td>female</td>\n",
       "      <td>22.0</td>\n",
       "      <td>1</td>\n",
       "      <td>1</td>\n",
       "      <td>3101298</td>\n",
       "      <td>12.2875</td>\n",
       "      <td>NaN</td>\n",
       "      <td>S</td>\n",
       "    </tr>\n",
       "  </tbody>\n",
       "</table>\n",
       "</div>"
      ],
      "text/plain": [
       "   PassengerId  Pclass                                          Name     Sex  \\\n",
       "0          892       3                              Kelly, Mr. James    male   \n",
       "1          893       3              Wilkes, Mrs. James (Ellen Needs)  female   \n",
       "2          894       2                     Myles, Mr. Thomas Francis    male   \n",
       "3          895       3                              Wirz, Mr. Albert    male   \n",
       "4          896       3  Hirvonen, Mrs. Alexander (Helga E Lindqvist)  female   \n",
       "\n",
       "    Age  SibSp  Parch   Ticket     Fare Cabin Embarked  \n",
       "0  34.5      0      0   330911   7.8292   NaN        Q  \n",
       "1  47.0      1      0   363272   7.0000   NaN        S  \n",
       "2  62.0      0      0   240276   9.6875   NaN        Q  \n",
       "3  27.0      0      0   315154   8.6625   NaN        S  \n",
       "4  22.0      1      1  3101298  12.2875   NaN        S  "
      ]
     },
     "execution_count": 21,
     "metadata": {},
     "output_type": "execute_result"
    }
   ],
   "source": [
    "test_data.head(5)"
   ]
  },
  {
   "cell_type": "code",
   "execution_count": 22,
   "metadata": {},
   "outputs": [
    {
     "data": {
      "text/html": [
       "<div>\n",
       "<style scoped>\n",
       "    .dataframe tbody tr th:only-of-type {\n",
       "        vertical-align: middle;\n",
       "    }\n",
       "\n",
       "    .dataframe tbody tr th {\n",
       "        vertical-align: top;\n",
       "    }\n",
       "\n",
       "    .dataframe thead th {\n",
       "        text-align: right;\n",
       "    }\n",
       "</style>\n",
       "<table border=\"1\" class=\"dataframe\">\n",
       "  <thead>\n",
       "    <tr style=\"text-align: right;\">\n",
       "      <th></th>\n",
       "      <th>PassengerId</th>\n",
       "      <th>Survived</th>\n",
       "      <th>Pclass</th>\n",
       "      <th>Age</th>\n",
       "      <th>SibSp</th>\n",
       "      <th>Parch</th>\n",
       "      <th>Fare</th>\n",
       "    </tr>\n",
       "  </thead>\n",
       "  <tbody>\n",
       "    <tr>\n",
       "      <td>count</td>\n",
       "      <td>891.000000</td>\n",
       "      <td>891.000000</td>\n",
       "      <td>891.000000</td>\n",
       "      <td>714.000000</td>\n",
       "      <td>891.000000</td>\n",
       "      <td>891.000000</td>\n",
       "      <td>891.000000</td>\n",
       "    </tr>\n",
       "    <tr>\n",
       "      <td>mean</td>\n",
       "      <td>446.000000</td>\n",
       "      <td>0.383838</td>\n",
       "      <td>2.308642</td>\n",
       "      <td>29.699118</td>\n",
       "      <td>0.523008</td>\n",
       "      <td>0.381594</td>\n",
       "      <td>32.204208</td>\n",
       "    </tr>\n",
       "    <tr>\n",
       "      <td>std</td>\n",
       "      <td>257.353842</td>\n",
       "      <td>0.486592</td>\n",
       "      <td>0.836071</td>\n",
       "      <td>14.526497</td>\n",
       "      <td>1.102743</td>\n",
       "      <td>0.806057</td>\n",
       "      <td>49.693429</td>\n",
       "    </tr>\n",
       "    <tr>\n",
       "      <td>min</td>\n",
       "      <td>1.000000</td>\n",
       "      <td>0.000000</td>\n",
       "      <td>1.000000</td>\n",
       "      <td>0.420000</td>\n",
       "      <td>0.000000</td>\n",
       "      <td>0.000000</td>\n",
       "      <td>0.000000</td>\n",
       "    </tr>\n",
       "    <tr>\n",
       "      <td>25%</td>\n",
       "      <td>223.500000</td>\n",
       "      <td>0.000000</td>\n",
       "      <td>2.000000</td>\n",
       "      <td>20.125000</td>\n",
       "      <td>0.000000</td>\n",
       "      <td>0.000000</td>\n",
       "      <td>7.910400</td>\n",
       "    </tr>\n",
       "    <tr>\n",
       "      <td>50%</td>\n",
       "      <td>446.000000</td>\n",
       "      <td>0.000000</td>\n",
       "      <td>3.000000</td>\n",
       "      <td>28.000000</td>\n",
       "      <td>0.000000</td>\n",
       "      <td>0.000000</td>\n",
       "      <td>14.454200</td>\n",
       "    </tr>\n",
       "    <tr>\n",
       "      <td>75%</td>\n",
       "      <td>668.500000</td>\n",
       "      <td>1.000000</td>\n",
       "      <td>3.000000</td>\n",
       "      <td>38.000000</td>\n",
       "      <td>1.000000</td>\n",
       "      <td>0.000000</td>\n",
       "      <td>31.000000</td>\n",
       "    </tr>\n",
       "    <tr>\n",
       "      <td>max</td>\n",
       "      <td>891.000000</td>\n",
       "      <td>1.000000</td>\n",
       "      <td>3.000000</td>\n",
       "      <td>80.000000</td>\n",
       "      <td>8.000000</td>\n",
       "      <td>6.000000</td>\n",
       "      <td>512.329200</td>\n",
       "    </tr>\n",
       "  </tbody>\n",
       "</table>\n",
       "</div>"
      ],
      "text/plain": [
       "       PassengerId    Survived      Pclass         Age       SibSp  \\\n",
       "count   891.000000  891.000000  891.000000  714.000000  891.000000   \n",
       "mean    446.000000    0.383838    2.308642   29.699118    0.523008   \n",
       "std     257.353842    0.486592    0.836071   14.526497    1.102743   \n",
       "min       1.000000    0.000000    1.000000    0.420000    0.000000   \n",
       "25%     223.500000    0.000000    2.000000   20.125000    0.000000   \n",
       "50%     446.000000    0.000000    3.000000   28.000000    0.000000   \n",
       "75%     668.500000    1.000000    3.000000   38.000000    1.000000   \n",
       "max     891.000000    1.000000    3.000000   80.000000    8.000000   \n",
       "\n",
       "            Parch        Fare  \n",
       "count  891.000000  891.000000  \n",
       "mean     0.381594   32.204208  \n",
       "std      0.806057   49.693429  \n",
       "min      0.000000    0.000000  \n",
       "25%      0.000000    7.910400  \n",
       "50%      0.000000   14.454200  \n",
       "75%      0.000000   31.000000  \n",
       "max      6.000000  512.329200  "
      ]
     },
     "execution_count": 22,
     "metadata": {},
     "output_type": "execute_result"
    }
   ],
   "source": [
    "train_data.describe()"
   ]
  },
  {
   "cell_type": "code",
   "execution_count": 23,
   "metadata": {},
   "outputs": [
    {
     "name": "stdout",
     "output_type": "stream",
     "text": [
      "<class 'pandas.core.frame.DataFrame'>\n",
      "RangeIndex: 891 entries, 0 to 890\n",
      "Data columns (total 12 columns):\n",
      "PassengerId    891 non-null int64\n",
      "Survived       891 non-null int64\n",
      "Pclass         891 non-null int64\n",
      "Name           891 non-null object\n",
      "Sex            891 non-null object\n",
      "Age            714 non-null float64\n",
      "SibSp          891 non-null int64\n",
      "Parch          891 non-null int64\n",
      "Ticket         891 non-null object\n",
      "Fare           891 non-null float64\n",
      "Cabin          204 non-null object\n",
      "Embarked       889 non-null object\n",
      "dtypes: float64(2), int64(5), object(5)\n",
      "memory usage: 83.7+ KB\n"
     ]
    }
   ],
   "source": [
    "train_data.info()"
   ]
  },
  {
   "cell_type": "code",
   "execution_count": 24,
   "metadata": {},
   "outputs": [
    {
     "data": {
      "text/html": [
       "<div>\n",
       "<style scoped>\n",
       "    .dataframe tbody tr th:only-of-type {\n",
       "        vertical-align: middle;\n",
       "    }\n",
       "\n",
       "    .dataframe tbody tr th {\n",
       "        vertical-align: top;\n",
       "    }\n",
       "\n",
       "    .dataframe thead th {\n",
       "        text-align: right;\n",
       "    }\n",
       "</style>\n",
       "<table border=\"1\" class=\"dataframe\">\n",
       "  <thead>\n",
       "    <tr style=\"text-align: right;\">\n",
       "      <th></th>\n",
       "      <th>PassengerId</th>\n",
       "      <th>Pclass</th>\n",
       "      <th>Age</th>\n",
       "      <th>SibSp</th>\n",
       "      <th>Parch</th>\n",
       "      <th>Fare</th>\n",
       "    </tr>\n",
       "  </thead>\n",
       "  <tbody>\n",
       "    <tr>\n",
       "      <td>count</td>\n",
       "      <td>418.000000</td>\n",
       "      <td>418.000000</td>\n",
       "      <td>332.000000</td>\n",
       "      <td>418.000000</td>\n",
       "      <td>418.000000</td>\n",
       "      <td>417.000000</td>\n",
       "    </tr>\n",
       "    <tr>\n",
       "      <td>mean</td>\n",
       "      <td>1100.500000</td>\n",
       "      <td>2.265550</td>\n",
       "      <td>30.272590</td>\n",
       "      <td>0.447368</td>\n",
       "      <td>0.392344</td>\n",
       "      <td>35.627188</td>\n",
       "    </tr>\n",
       "    <tr>\n",
       "      <td>std</td>\n",
       "      <td>120.810458</td>\n",
       "      <td>0.841838</td>\n",
       "      <td>14.181209</td>\n",
       "      <td>0.896760</td>\n",
       "      <td>0.981429</td>\n",
       "      <td>55.907576</td>\n",
       "    </tr>\n",
       "    <tr>\n",
       "      <td>min</td>\n",
       "      <td>892.000000</td>\n",
       "      <td>1.000000</td>\n",
       "      <td>0.170000</td>\n",
       "      <td>0.000000</td>\n",
       "      <td>0.000000</td>\n",
       "      <td>0.000000</td>\n",
       "    </tr>\n",
       "    <tr>\n",
       "      <td>25%</td>\n",
       "      <td>996.250000</td>\n",
       "      <td>1.000000</td>\n",
       "      <td>21.000000</td>\n",
       "      <td>0.000000</td>\n",
       "      <td>0.000000</td>\n",
       "      <td>7.895800</td>\n",
       "    </tr>\n",
       "    <tr>\n",
       "      <td>50%</td>\n",
       "      <td>1100.500000</td>\n",
       "      <td>3.000000</td>\n",
       "      <td>27.000000</td>\n",
       "      <td>0.000000</td>\n",
       "      <td>0.000000</td>\n",
       "      <td>14.454200</td>\n",
       "    </tr>\n",
       "    <tr>\n",
       "      <td>75%</td>\n",
       "      <td>1204.750000</td>\n",
       "      <td>3.000000</td>\n",
       "      <td>39.000000</td>\n",
       "      <td>1.000000</td>\n",
       "      <td>0.000000</td>\n",
       "      <td>31.500000</td>\n",
       "    </tr>\n",
       "    <tr>\n",
       "      <td>max</td>\n",
       "      <td>1309.000000</td>\n",
       "      <td>3.000000</td>\n",
       "      <td>76.000000</td>\n",
       "      <td>8.000000</td>\n",
       "      <td>9.000000</td>\n",
       "      <td>512.329200</td>\n",
       "    </tr>\n",
       "  </tbody>\n",
       "</table>\n",
       "</div>"
      ],
      "text/plain": [
       "       PassengerId      Pclass         Age       SibSp       Parch        Fare\n",
       "count   418.000000  418.000000  332.000000  418.000000  418.000000  417.000000\n",
       "mean   1100.500000    2.265550   30.272590    0.447368    0.392344   35.627188\n",
       "std     120.810458    0.841838   14.181209    0.896760    0.981429   55.907576\n",
       "min     892.000000    1.000000    0.170000    0.000000    0.000000    0.000000\n",
       "25%     996.250000    1.000000   21.000000    0.000000    0.000000    7.895800\n",
       "50%    1100.500000    3.000000   27.000000    0.000000    0.000000   14.454200\n",
       "75%    1204.750000    3.000000   39.000000    1.000000    0.000000   31.500000\n",
       "max    1309.000000    3.000000   76.000000    8.000000    9.000000  512.329200"
      ]
     },
     "execution_count": 24,
     "metadata": {},
     "output_type": "execute_result"
    }
   ],
   "source": [
    "test_data.describe()"
   ]
  },
  {
   "cell_type": "markdown",
   "metadata": {},
   "source": [
    "### EXPLORATORY DATA ANALYSIS AND PRE-PROCESSING"
   ]
  },
  {
   "cell_type": "markdown",
   "metadata": {},
   "source": [
    "#### Attributes in the dataset:\n",
    "\n",
    "There are 12 columns in the training data.\n",
    "\n",
    "PassengerId : It indicates the Passenger id\n",
    "\n",
    "Survived' :  \"It is '0' or '1'. It indicates whether the passenger has survived or not.\n",
    "            if it's a \"\"1\"\", the passenger survived.\n",
    "            if it's a \"\"0\"\", the passenger died.\"\n",
    "\n",
    "Pclass' \tThere are three classes 1,2,3 (can be considered as Economy,Business and First)\n",
    "\n",
    "Name' : Passenger Name\n",
    "\n",
    "Sex' : Passenger gender\n",
    "\n",
    "Age' : Passenger age\n",
    "\n",
    "SibSp' : \"Sibling and Spouse\n",
    "\n",
    "Sibling = *brother, sister, stepbrother, stepsister* **\n",
    "Spouse =* husband, wife * **\"\n",
    "\n",
    "\n",
    "parch: Number of Parents/Children Aboard\n",
    "\n",
    "ticket : Ticket Number\n",
    "\n",
    "fare : Passenger Fare\n",
    "\n",
    "cabin : Cabin\n",
    "\n",
    "embarked : Port of Embarkation (C = Cherbourg; Q = Queenstown; S = Southampton)\n",
    "\n",
    " \n",
    "The testing data has all the columns similar to the training data except the 'Survived' column which is present exclusively in the training data. We would predict the survival rate on the testing data based upon the training data.\n",
    "\n",
    "\n",
    "\n",
    "##### CATEGORICAL FEATURES:\n",
    "Survived, Sex, and Embarked. Ordinal: Pclass.\n",
    "\n",
    "##### CONTINUOUS FEATURES:\n",
    "AGE,FARE,Discrete: SibSp, Parch."
   ]
  },
  {
   "cell_type": "markdown",
   "metadata": {},
   "source": [
    "#### Attributes in the dataset:\n",
    "\n",
    "There are 12 columns in the training data.\n",
    "\n",
    "PassengerId : It indicates the Passenger id\n",
    "\n",
    "Survived' :  \"It is '0' or '1'. It indicates whether the passenger has survived or not.\n",
    "            if it's a \"\"1\"\", the passenger survived.\n",
    "            if it's a \"\"0\"\", the passenger died.\"\n",
    "\n",
    "Pclass' \tThere are three classes 1,2,3 (can be considered as Economy,Business and First)\n",
    "\n",
    "Name' : Passenger Name\n",
    "\n",
    "Sex' : Passenger gender\n",
    "\n",
    "Age' : Passenger age\n",
    "\n",
    "SibSp' : \"Sibling and Spouse\n",
    "\n",
    "Sibling = *brother, sister, stepbrother, stepsister* **\n",
    "Spouse =* husband, wife * **\"\n",
    "\n",
    "\n",
    "parch: Number of Parents/Children Aboard\n",
    "\n",
    "ticket : Ticket Number\n",
    "\n",
    "fare : Passenger Fare\n",
    "\n",
    "cabin : Cabin\n",
    "\n",
    "embarked : Port of Embarkation (C = Cherbourg; Q = Queenstown; S = Southampton)\n",
    "\n",
    " \n",
    "The testing data has all the columns similar to the training data except the 'Survived' column which is present exclusively in the training data. We would predict the survival rate on the testing data based upon the training data.\n",
    "\n",
    "\n",
    "\n",
    "##### CATEGORICAL FEATURES:\n",
    "Survived, Sex, and Embarked. Ordinal: Pclass.\n",
    "\n",
    "##### CONTINUOUS FEATURES:\n",
    "AGE,FARE,Discrete: SibSp, Parch."
   ]
  },
  {
   "cell_type": "markdown",
   "metadata": {},
   "source": [
    "#### Percentage of survivors"
   ]
  },
  {
   "cell_type": "code",
   "execution_count": 25,
   "metadata": {},
   "outputs": [
    {
     "name": "stdout",
     "output_type": "stream",
     "text": [
      "% of women who survived: 0.7420382165605095\n"
     ]
    }
   ],
   "source": [
    "women = train_data.loc[train_data.Sex == 'female'][\"Survived\"]\n",
    "rate_women = sum(women)/len(women)\n",
    "\n",
    "print(\"% of women who survived:\", rate_women)"
   ]
  },
  {
   "cell_type": "code",
   "execution_count": 26,
   "metadata": {},
   "outputs": [
    {
     "name": "stdout",
     "output_type": "stream",
     "text": [
      "% of men who survived: 0.18890814558058924\n"
     ]
    }
   ],
   "source": [
    "men = train_data.loc[train_data.Sex == 'male'][\"Survived\"]\n",
    "rate_men = sum(men)/len(men)\n",
    "\n",
    "print(\"% of men who survived:\", rate_men)"
   ]
  },
  {
   "cell_type": "code",
   "execution_count": 27,
   "metadata": {},
   "outputs": [
    {
     "data": {
      "image/png": "[encoded data removed]",
      "text/plain": [
       "<Figure size 1440x1080 with 9 Axes>"
      ]
     },
     "metadata": {
      "needs_background": "light"
     },
     "output_type": "display_data"
    }
   ],
   "source": [
    "%matplotlib inline\n",
    "import matplotlib.pyplot as plt\n",
    "train_data.hist(bins=50, figsize=(20,15))\n",
    "plt.show()"
   ]
  },
  {
   "cell_type": "markdown",
   "metadata": {},
   "source": [
    "##### VISUALIZATION/PLOT FOR THE NUMBER OF SURVIVORS:"
   ]
  },
  {
   "cell_type": "code",
   "execution_count": 28,
   "metadata": {},
   "outputs": [
    {
     "data": {
      "image/png": "[encoded data removed]",
      "text/plain": [
       "<Figure size 864x432 with 2 Axes>"
      ]
     },
     "metadata": {
      "needs_background": "light"
     },
     "output_type": "display_data"
    }
   ],
   "source": [
    "f,ax=plt.subplots(1,2,figsize=(12,6))\n",
    "train_data['Survived'].value_counts().plot.pie(explode=[0,0.1],autopct='%1.1f%%',ax=ax[0],shadow=True)\n",
    "ax[0].set_title('Survived')\n",
    "ax[0].set_ylabel('')\n",
    "sns.countplot('Survived',data=train_data,ax=ax[1])\n",
    "ax[1].set_title('Survived')\n",
    "plt.show()\n",
    "ax[0].set_title('Survived')\n",
    "ax[0].set_ylabel('')\n",
    "sns.countplot('Survived',data=train_data,ax=ax[1])\n",
    "ax[1].set_title('Survived')\n",
    "plt.show()"
   ]
  },
  {
   "cell_type": "markdown",
   "metadata": {},
   "source": [
    "Based on the above plots we can infer that many passengers had died (61.6%) and out of 891 passengers in training set, only around 350 people survived."
   ]
  },
  {
   "cell_type": "code",
   "execution_count": 29,
   "metadata": {},
   "outputs": [
    {
     "data": {
      "image/png": "[encoded data removed]",
      "text/plain": [
       "<Figure size 864x432 with 2 Axes>"
      ]
     },
     "metadata": {
      "needs_background": "light"
     },
     "output_type": "display_data"
    }
   ],
   "source": [
    "f,ax=plt.subplots(1,2,figsize=(12,6))\n",
    "train_data[['Sex','Survived']].groupby(['Sex']).mean().plot.bar(ax=ax[0])\n",
    "ax[0].set_title('Survived Passenger vs Gender')\n",
    "sns.countplot('Sex',hue='Survived',data=train_data,ax=ax[1])\n",
    "ax[1].set_title('Gender of Survived Passengers vs Dead Passengers')\n",
    "plt.show()"
   ]
  },
  {
   "cell_type": "markdown",
   "metadata": {},
   "source": [
    "Based on the above figure , we see that the number of men on the ship is greater than the number of women whereas most of survivors are women and it is nearly twice the number of males passengers survived. The survival rate is a very important feature and would be helpful in prediction."
   ]
  },
  {
   "cell_type": "markdown",
   "metadata": {},
   "source": [
    "##### PASSENGER CLASS AND SURVIVORS"
   ]
  },
  {
   "cell_type": "code",
   "execution_count": 30,
   "metadata": {},
   "outputs": [
    {
     "data": {
      "text/html": [
       "<div>\n",
       "<style scoped>\n",
       "    .dataframe tbody tr th:only-of-type {\n",
       "        vertical-align: middle;\n",
       "    }\n",
       "\n",
       "    .dataframe tbody tr th {\n",
       "        vertical-align: top;\n",
       "    }\n",
       "\n",
       "    .dataframe thead th {\n",
       "        text-align: right;\n",
       "    }\n",
       "</style>\n",
       "<table border=\"1\" class=\"dataframe\">\n",
       "  <thead>\n",
       "    <tr style=\"text-align: right;\">\n",
       "      <th>Survived</th>\n",
       "      <th>0</th>\n",
       "      <th>1</th>\n",
       "      <th>All</th>\n",
       "    </tr>\n",
       "    <tr>\n",
       "      <th>Pclass</th>\n",
       "      <th></th>\n",
       "      <th></th>\n",
       "      <th></th>\n",
       "    </tr>\n",
       "  </thead>\n",
       "  <tbody>\n",
       "    <tr>\n",
       "      <td>1</td>\n",
       "      <td>80</td>\n",
       "      <td>136</td>\n",
       "      <td>216</td>\n",
       "    </tr>\n",
       "    <tr>\n",
       "      <td>2</td>\n",
       "      <td>97</td>\n",
       "      <td>87</td>\n",
       "      <td>184</td>\n",
       "    </tr>\n",
       "    <tr>\n",
       "      <td>3</td>\n",
       "      <td>372</td>\n",
       "      <td>119</td>\n",
       "      <td>491</td>\n",
       "    </tr>\n",
       "    <tr>\n",
       "      <td>All</td>\n",
       "      <td>549</td>\n",
       "      <td>342</td>\n",
       "      <td>891</td>\n",
       "    </tr>\n",
       "  </tbody>\n",
       "</table>\n",
       "</div>"
      ],
      "text/plain": [
       "Survived    0    1  All\n",
       "Pclass                 \n",
       "1          80  136  216\n",
       "2          97   87  184\n",
       "3         372  119  491\n",
       "All       549  342  891"
      ]
     },
     "execution_count": 30,
     "metadata": {},
     "output_type": "execute_result"
    }
   ],
   "source": [
    "pd.crosstab(train_data.Pclass,train_data.Survived,margins=True)"
   ]
  },
  {
   "cell_type": "code",
   "execution_count": 31,
   "metadata": {},
   "outputs": [
    {
     "data": {
      "text/plain": [
       "Text(0.5, 1.0, 'Pclass:Survived vs Dead')"
      ]
     },
     "execution_count": 31,
     "metadata": {},
     "output_type": "execute_result"
    },
    {
     "data": {
      "image/png": "[encoded data removed]",
      "text/plain": [
       "<Figure size 1296x432 with 3 Axes>"
      ]
     },
     "metadata": {
      "needs_background": "light"
     },
     "output_type": "display_data"
    }
   ],
   "source": [
    "f,ax = plt.subplots(1,3, figsize=(18,6))\n",
    "train_data['Pclass'].value_counts().plot.pie(autopct='%1.1f%%',ax=ax[0],shadow=True, cmap='Set2')\n",
    "train_data['Pclass'].value_counts().plot.bar(cmap='Set3',ax=ax[1])\n",
    "ax[1].set_title('Number of Passengers by Class')\n",
    "ax[1].set_ylabel('Count')\n",
    "ax[1].set_xlabel('Pclass')\n",
    "sns.countplot('Pclass', hue='Survived',data= train_data, ax=ax[2], palette='Set2')\n",
    "ax[2].set_title('Pclass:Survived vs Dead')"
   ]
  },
  {
   "cell_type": "markdown",
   "metadata": {},
   "source": [
    "From the above plots, we can infer that passenegers belonging Pclass 1 have more chances of survival. In addition to it we also see that though the number of Passengers in Pclass 3 were much higher than Pclass 1 and Pclass 2, but still the survival rate of passengers from pclass 3 is very low. "
   ]
  },
  {
   "cell_type": "markdown",
   "metadata": {},
   "source": [
    "##### Passenger survival rate with Sex and Pclass"
   ]
  },
  {
   "cell_type": "code",
   "execution_count": 32,
   "metadata": {},
   "outputs": [
    {
     "data": {
      "text/html": [
       "<div>\n",
       "<style scoped>\n",
       "    .dataframe tbody tr th:only-of-type {\n",
       "        vertical-align: middle;\n",
       "    }\n",
       "\n",
       "    .dataframe tbody tr th {\n",
       "        vertical-align: top;\n",
       "    }\n",
       "\n",
       "    .dataframe thead th {\n",
       "        text-align: right;\n",
       "    }\n",
       "</style>\n",
       "<table border=\"1\" class=\"dataframe\">\n",
       "  <thead>\n",
       "    <tr style=\"text-align: right;\">\n",
       "      <th></th>\n",
       "      <th>Pclass</th>\n",
       "      <th>1</th>\n",
       "      <th>2</th>\n",
       "      <th>3</th>\n",
       "      <th>All</th>\n",
       "    </tr>\n",
       "    <tr>\n",
       "      <th>Sex</th>\n",
       "      <th>Survived</th>\n",
       "      <th></th>\n",
       "      <th></th>\n",
       "      <th></th>\n",
       "      <th></th>\n",
       "    </tr>\n",
       "  </thead>\n",
       "  <tbody>\n",
       "    <tr>\n",
       "      <td rowspan=\"2\" valign=\"top\">female</td>\n",
       "      <td>0</td>\n",
       "      <td>3</td>\n",
       "      <td>6</td>\n",
       "      <td>72</td>\n",
       "      <td>81</td>\n",
       "    </tr>\n",
       "    <tr>\n",
       "      <td>1</td>\n",
       "      <td>91</td>\n",
       "      <td>70</td>\n",
       "      <td>72</td>\n",
       "      <td>233</td>\n",
       "    </tr>\n",
       "    <tr>\n",
       "      <td rowspan=\"2\" valign=\"top\">male</td>\n",
       "      <td>0</td>\n",
       "      <td>77</td>\n",
       "      <td>91</td>\n",
       "      <td>300</td>\n",
       "      <td>468</td>\n",
       "    </tr>\n",
       "    <tr>\n",
       "      <td>1</td>\n",
       "      <td>45</td>\n",
       "      <td>17</td>\n",
       "      <td>47</td>\n",
       "      <td>109</td>\n",
       "    </tr>\n",
       "    <tr>\n",
       "      <td>All</td>\n",
       "      <td></td>\n",
       "      <td>216</td>\n",
       "      <td>184</td>\n",
       "      <td>491</td>\n",
       "      <td>891</td>\n",
       "    </tr>\n",
       "  </tbody>\n",
       "</table>\n",
       "</div>"
      ],
      "text/plain": [
       "Pclass             1    2    3  All\n",
       "Sex    Survived                    \n",
       "female 0           3    6   72   81\n",
       "       1          91   70   72  233\n",
       "male   0          77   91  300  468\n",
       "       1          45   17   47  109\n",
       "All              216  184  491  891"
      ]
     },
     "execution_count": 32,
     "metadata": {},
     "output_type": "execute_result"
    }
   ],
   "source": [
    "pd.crosstab([train_data.Sex,train_data.Survived],train_data.Pclass,margins=True)"
   ]
  },
  {
   "cell_type": "markdown",
   "metadata": {},
   "source": [
    "##### FREQUENCY OF SURVIVORS VS NON-SURVIVORS"
   ]
  },
  {
   "cell_type": "code",
   "execution_count": 33,
   "metadata": {},
   "outputs": [
    {
     "data": {
      "image/png": "[encoded data removed]",
      "text/plain": [
       "<Figure size 1296x432 with 2 Axes>"
      ]
     },
     "metadata": {
      "needs_background": "light"
     },
     "output_type": "display_data"
    }
   ],
   "source": [
    "f,ax=plt.subplots(1,2,figsize=(18,6))\n",
    "train_data[train_data['Survived']==0].Age.plot.hist(ax=ax[0],bins=20,cmap='Set3')\n",
    "ax[0].set_title('Survived= 0')\n",
    "x1=list(range(0,85,5))\n",
    "ax[0].set_xticks(x1)\n",
    "train_data[train_data['Survived']==1].Age.plot.hist(ax=ax[1],bins=20, cmap='Pastel1')\n",
    "ax[1].set_title('Survived= 1')\n",
    "x2=list(range(0,85,5))\n",
    "ax[1].set_xticks(x2)\n",
    "\n",
    "\n",
    "plt.show()"
   ]
  },
  {
   "cell_type": "markdown",
   "metadata": {},
   "source": [
    "Passengers in age category (5 years) and middle aged (20 to 35) had the maximum number of survivors when comapred to other age groups."
   ]
  },
  {
   "cell_type": "markdown",
   "metadata": {},
   "source": [
    "##### EMBARKED LOCATIONS VS PASSENGERS VS SURVIVORS"
   ]
  },
  {
   "cell_type": "code",
   "execution_count": 34,
   "metadata": {},
   "outputs": [
    {
     "data": {
      "text/html": [
       "<div>\n",
       "<style scoped>\n",
       "    .dataframe tbody tr th:only-of-type {\n",
       "        vertical-align: middle;\n",
       "    }\n",
       "\n",
       "    .dataframe tbody tr th {\n",
       "        vertical-align: top;\n",
       "    }\n",
       "\n",
       "    .dataframe thead tr th {\n",
       "        text-align: left;\n",
       "    }\n",
       "\n",
       "    .dataframe thead tr:last-of-type th {\n",
       "        text-align: right;\n",
       "    }\n",
       "</style>\n",
       "<table border=\"1\" class=\"dataframe\">\n",
       "  <thead>\n",
       "    <tr>\n",
       "      <th></th>\n",
       "      <th>Sex</th>\n",
       "      <th colspan=\"2\" halign=\"left\">female</th>\n",
       "      <th colspan=\"2\" halign=\"left\">male</th>\n",
       "      <th>All</th>\n",
       "    </tr>\n",
       "    <tr>\n",
       "      <th></th>\n",
       "      <th>Survived</th>\n",
       "      <th>0</th>\n",
       "      <th>1</th>\n",
       "      <th>0</th>\n",
       "      <th>1</th>\n",
       "      <th></th>\n",
       "    </tr>\n",
       "    <tr>\n",
       "      <th>Embarked</th>\n",
       "      <th>Pclass</th>\n",
       "      <th></th>\n",
       "      <th></th>\n",
       "      <th></th>\n",
       "      <th></th>\n",
       "      <th></th>\n",
       "    </tr>\n",
       "  </thead>\n",
       "  <tbody>\n",
       "    <tr>\n",
       "      <td rowspan=\"3\" valign=\"top\">C</td>\n",
       "      <td>1</td>\n",
       "      <td>1</td>\n",
       "      <td>42</td>\n",
       "      <td>25</td>\n",
       "      <td>17</td>\n",
       "      <td>85</td>\n",
       "    </tr>\n",
       "    <tr>\n",
       "      <td>2</td>\n",
       "      <td>0</td>\n",
       "      <td>7</td>\n",
       "      <td>8</td>\n",
       "      <td>2</td>\n",
       "      <td>17</td>\n",
       "    </tr>\n",
       "    <tr>\n",
       "      <td>3</td>\n",
       "      <td>8</td>\n",
       "      <td>15</td>\n",
       "      <td>33</td>\n",
       "      <td>10</td>\n",
       "      <td>66</td>\n",
       "    </tr>\n",
       "    <tr>\n",
       "      <td rowspan=\"3\" valign=\"top\">Q</td>\n",
       "      <td>1</td>\n",
       "      <td>0</td>\n",
       "      <td>1</td>\n",
       "      <td>1</td>\n",
       "      <td>0</td>\n",
       "      <td>2</td>\n",
       "    </tr>\n",
       "    <tr>\n",
       "      <td>2</td>\n",
       "      <td>0</td>\n",
       "      <td>2</td>\n",
       "      <td>1</td>\n",
       "      <td>0</td>\n",
       "      <td>3</td>\n",
       "    </tr>\n",
       "    <tr>\n",
       "      <td>3</td>\n",
       "      <td>9</td>\n",
       "      <td>24</td>\n",
       "      <td>36</td>\n",
       "      <td>3</td>\n",
       "      <td>72</td>\n",
       "    </tr>\n",
       "    <tr>\n",
       "      <td rowspan=\"3\" valign=\"top\">S</td>\n",
       "      <td>1</td>\n",
       "      <td>2</td>\n",
       "      <td>46</td>\n",
       "      <td>51</td>\n",
       "      <td>28</td>\n",
       "      <td>127</td>\n",
       "    </tr>\n",
       "    <tr>\n",
       "      <td>2</td>\n",
       "      <td>6</td>\n",
       "      <td>61</td>\n",
       "      <td>82</td>\n",
       "      <td>15</td>\n",
       "      <td>164</td>\n",
       "    </tr>\n",
       "    <tr>\n",
       "      <td>3</td>\n",
       "      <td>55</td>\n",
       "      <td>33</td>\n",
       "      <td>231</td>\n",
       "      <td>34</td>\n",
       "      <td>353</td>\n",
       "    </tr>\n",
       "    <tr>\n",
       "      <td>All</td>\n",
       "      <td></td>\n",
       "      <td>81</td>\n",
       "      <td>231</td>\n",
       "      <td>468</td>\n",
       "      <td>109</td>\n",
       "      <td>889</td>\n",
       "    </tr>\n",
       "  </tbody>\n",
       "</table>\n",
       "</div>"
      ],
      "text/plain": [
       "Sex             female      male       All\n",
       "Survived             0    1    0    1     \n",
       "Embarked Pclass                           \n",
       "C        1           1   42   25   17   85\n",
       "         2           0    7    8    2   17\n",
       "         3           8   15   33   10   66\n",
       "Q        1           0    1    1    0    2\n",
       "         2           0    2    1    0    3\n",
       "         3           9   24   36    3   72\n",
       "S        1           2   46   51   28  127\n",
       "         2           6   61   82   15  164\n",
       "         3          55   33  231   34  353\n",
       "All                 81  231  468  109  889"
      ]
     },
     "execution_count": 34,
     "metadata": {},
     "output_type": "execute_result"
    }
   ],
   "source": [
    "pd.crosstab([train_data.Embarked, train_data.Pclass],[train_data.Sex,train_data.Survived], margins=True)"
   ]
  },
  {
   "cell_type": "code",
   "execution_count": 35,
   "metadata": {},
   "outputs": [
    {
     "data": {
      "image/png": "[encoded data removed]",
      "text/plain": [
       "<Figure size 1080x720 with 4 Axes>"
      ]
     },
     "metadata": {
      "needs_background": "light"
     },
     "output_type": "display_data"
    }
   ],
   "source": [
    "f, ax = plt.subplots(2,2, figsize=(15,10))\n",
    "sns.countplot('Embarked', data= train_data, ax= ax[0,0], palette='Pastel1')\n",
    "ax[0,0].set_title('Number of Passengers Boarded')\n",
    "sns.countplot('Embarked', hue='Sex',data= train_data, ax= ax[0,1], palette='Pastel1')\n",
    "ax[0,1].set_title('Embarked Splited Female-Male')\n",
    "sns.countplot('Embarked',hue='Survived', data= train_data, ax= ax[1,0], palette='Pastel1')\n",
    "ax[1,0].set_title('Embarked vs Survived')\n",
    "sns.countplot('Embarked', hue='Pclass',data= train_data, ax= ax[1,1], palette='Pastel1')\n",
    "ax[1,1].set_title('Embarked vs Pclass')\n",
    "plt.subplots_adjust(wspace=0.2, hspace=0.5)\n",
    "plt.show()"
   ]
  },
  {
   "cell_type": "markdown",
   "metadata": {},
   "source": [
    "#### Correlation"
   ]
  },
  {
   "cell_type": "code",
   "execution_count": 36,
   "metadata": {},
   "outputs": [
    {
     "data": {
      "text/plain": [
       "Survived       1.000000\n",
       "Fare           0.257307\n",
       "Parch          0.081629\n",
       "PassengerId   -0.005007\n",
       "SibSp         -0.035322\n",
       "Age           -0.077221\n",
       "Pclass        -0.338481\n",
       "Name: Survived, dtype: float64"
      ]
     },
     "execution_count": 36,
     "metadata": {},
     "output_type": "execute_result"
    }
   ],
   "source": [
    "corr_matrix = train_data.corr()\n",
    "corr_matrix[\"Survived\"].sort_values(ascending=False)"
   ]
  },
  {
   "cell_type": "code",
   "execution_count": 37,
   "metadata": {},
   "outputs": [
    {
     "data": {
      "image/png": "[encoded data removed]",
      "text/plain": [
       "<Figure size 864x864 with 2 Axes>"
      ]
     },
     "metadata": {
      "needs_background": "light"
     },
     "output_type": "display_data"
    }
   ],
   "source": [
    "plt.figure(figsize=(12,12))\n",
    "sns.heatmap(corr_matrix, annot=True, cmap=plt.cm.Reds)\n",
    "\n",
    "plt.show()"
   ]
  },
  {
   "cell_type": "markdown",
   "metadata": {},
   "source": [
    "### PRE-PROCESSING"
   ]
  },
  {
   "cell_type": "markdown",
   "metadata": {},
   "source": [
    "#### MISSING VALUES :\n",
    "\n",
    "The following columns have missing values\n",
    "\n",
    "Age            177\n",
    "Cabin          687\n",
    "Embarked         2\n"
   ]
  },
  {
   "cell_type": "code",
   "execution_count": 38,
   "metadata": {},
   "outputs": [],
   "source": [
    "##To find the missing data\n",
    "\n",
    "def missing_data_table(df):\n",
    "    actual_value = df.isnull().sum().sort_values(ascending=False)\n",
    "    percentage = (df.isnull().sum()/df.isnull().count()).sort_values(ascending=False)\n",
    "    missing_data_from_input = pd.concat([actual_value, percentage], axis=1, keys=['Total', 'Percentage'])\n",
    "    return missing_data_from_input"
   ]
  },
  {
   "cell_type": "code",
   "execution_count": 39,
   "metadata": {},
   "outputs": [
    {
     "data": {
      "text/html": [
       "<div>\n",
       "<style scoped>\n",
       "    .dataframe tbody tr th:only-of-type {\n",
       "        vertical-align: middle;\n",
       "    }\n",
       "\n",
       "    .dataframe tbody tr th {\n",
       "        vertical-align: top;\n",
       "    }\n",
       "\n",
       "    .dataframe thead th {\n",
       "        text-align: right;\n",
       "    }\n",
       "</style>\n",
       "<table border=\"1\" class=\"dataframe\">\n",
       "  <thead>\n",
       "    <tr style=\"text-align: right;\">\n",
       "      <th></th>\n",
       "      <th>Total</th>\n",
       "      <th>Percentage</th>\n",
       "    </tr>\n",
       "  </thead>\n",
       "  <tbody>\n",
       "    <tr>\n",
       "      <td>Cabin</td>\n",
       "      <td>687</td>\n",
       "      <td>0.771044</td>\n",
       "    </tr>\n",
       "    <tr>\n",
       "      <td>Age</td>\n",
       "      <td>177</td>\n",
       "      <td>0.198653</td>\n",
       "    </tr>\n",
       "    <tr>\n",
       "      <td>Embarked</td>\n",
       "      <td>2</td>\n",
       "      <td>0.002245</td>\n",
       "    </tr>\n",
       "    <tr>\n",
       "      <td>Fare</td>\n",
       "      <td>0</td>\n",
       "      <td>0.000000</td>\n",
       "    </tr>\n",
       "    <tr>\n",
       "      <td>Ticket</td>\n",
       "      <td>0</td>\n",
       "      <td>0.000000</td>\n",
       "    </tr>\n",
       "    <tr>\n",
       "      <td>Parch</td>\n",
       "      <td>0</td>\n",
       "      <td>0.000000</td>\n",
       "    </tr>\n",
       "    <tr>\n",
       "      <td>SibSp</td>\n",
       "      <td>0</td>\n",
       "      <td>0.000000</td>\n",
       "    </tr>\n",
       "    <tr>\n",
       "      <td>Sex</td>\n",
       "      <td>0</td>\n",
       "      <td>0.000000</td>\n",
       "    </tr>\n",
       "    <tr>\n",
       "      <td>Name</td>\n",
       "      <td>0</td>\n",
       "      <td>0.000000</td>\n",
       "    </tr>\n",
       "    <tr>\n",
       "      <td>Pclass</td>\n",
       "      <td>0</td>\n",
       "      <td>0.000000</td>\n",
       "    </tr>\n",
       "    <tr>\n",
       "      <td>Survived</td>\n",
       "      <td>0</td>\n",
       "      <td>0.000000</td>\n",
       "    </tr>\n",
       "    <tr>\n",
       "      <td>PassengerId</td>\n",
       "      <td>0</td>\n",
       "      <td>0.000000</td>\n",
       "    </tr>\n",
       "  </tbody>\n",
       "</table>\n",
       "</div>"
      ],
      "text/plain": [
       "             Total  Percentage\n",
       "Cabin          687    0.771044\n",
       "Age            177    0.198653\n",
       "Embarked         2    0.002245\n",
       "Fare             0    0.000000\n",
       "Ticket           0    0.000000\n",
       "Parch            0    0.000000\n",
       "SibSp            0    0.000000\n",
       "Sex              0    0.000000\n",
       "Name             0    0.000000\n",
       "Pclass           0    0.000000\n",
       "Survived         0    0.000000\n",
       "PassengerId      0    0.000000"
      ]
     },
     "execution_count": 39,
     "metadata": {},
     "output_type": "execute_result"
    }
   ],
   "source": [
    "missing_data_table(train_data)"
   ]
  },
  {
   "cell_type": "markdown",
   "metadata": {},
   "source": [
    "As per the above results, we have missing values in 3 columns such as Cabin, Age and Embarked. And the amount of data missing from Cabin column is so large that it can not be altered or removed as the total data is less, whereas Age has 177 missing values which can be filled with the mean of the corresponding passenger category.\n",
    "\n",
    "Finally, the column embarked has only 2 missing values. This column represents the point of boarding , with the help of below plot we can come to a reasonable conclusion that the value \"C\" has higher fare and the fare of missing value is also on the high range(i.e. Fare = 80).\n"
   ]
  },
  {
   "cell_type": "code",
   "execution_count": 40,
   "metadata": {},
   "outputs": [
    {
     "data": {
      "image/png": "[encoded data removed]",
      "text/plain": [
       "<Figure size 1440x432 with 1 Axes>"
      ]
     },
     "metadata": {
      "needs_background": "light"
     },
     "output_type": "display_data"
    },
    {
     "data": {
      "text/html": [
       "<div>\n",
       "<style scoped>\n",
       "    .dataframe tbody tr th:only-of-type {\n",
       "        vertical-align: middle;\n",
       "    }\n",
       "\n",
       "    .dataframe tbody tr th {\n",
       "        vertical-align: top;\n",
       "    }\n",
       "\n",
       "    .dataframe thead th {\n",
       "        text-align: right;\n",
       "    }\n",
       "</style>\n",
       "<table border=\"1\" class=\"dataframe\">\n",
       "  <thead>\n",
       "    <tr style=\"text-align: right;\">\n",
       "      <th></th>\n",
       "      <th>PassengerId</th>\n",
       "      <th>Survived</th>\n",
       "      <th>Pclass</th>\n",
       "      <th>Name</th>\n",
       "      <th>Sex</th>\n",
       "      <th>Age</th>\n",
       "      <th>SibSp</th>\n",
       "      <th>Parch</th>\n",
       "      <th>Ticket</th>\n",
       "      <th>Fare</th>\n",
       "      <th>Cabin</th>\n",
       "      <th>Embarked</th>\n",
       "    </tr>\n",
       "  </thead>\n",
       "  <tbody>\n",
       "    <tr>\n",
       "      <td>61</td>\n",
       "      <td>62</td>\n",
       "      <td>1</td>\n",
       "      <td>1</td>\n",
       "      <td>Icard, Miss. Amelie</td>\n",
       "      <td>female</td>\n",
       "      <td>38.0</td>\n",
       "      <td>0</td>\n",
       "      <td>0</td>\n",
       "      <td>113572</td>\n",
       "      <td>80.0</td>\n",
       "      <td>B28</td>\n",
       "      <td>NaN</td>\n",
       "    </tr>\n",
       "    <tr>\n",
       "      <td>829</td>\n",
       "      <td>830</td>\n",
       "      <td>1</td>\n",
       "      <td>1</td>\n",
       "      <td>Stone, Mrs. George Nelson (Martha Evelyn)</td>\n",
       "      <td>female</td>\n",
       "      <td>62.0</td>\n",
       "      <td>0</td>\n",
       "      <td>0</td>\n",
       "      <td>113572</td>\n",
       "      <td>80.0</td>\n",
       "      <td>B28</td>\n",
       "      <td>NaN</td>\n",
       "    </tr>\n",
       "  </tbody>\n",
       "</table>\n",
       "</div>"
      ],
      "text/plain": [
       "     PassengerId  Survived  Pclass                                       Name  \\\n",
       "61            62         1       1                        Icard, Miss. Amelie   \n",
       "829          830         1       1  Stone, Mrs. George Nelson (Martha Evelyn)   \n",
       "\n",
       "        Sex   Age  SibSp  Parch  Ticket  Fare Cabin Embarked  \n",
       "61   female  38.0      0      0  113572  80.0   B28      NaN  \n",
       "829  female  62.0      0      0  113572  80.0   B28      NaN  "
      ]
     },
     "metadata": {},
     "output_type": "display_data"
    }
   ],
   "source": [
    "##Plot to find the distribution of fare & embarked.\n",
    "\n",
    "figure, axes = plt.subplots(1,1,figsize=(20, 6))\n",
    "plot = sns.catplot(x=\"Embarked\", y=\"Fare\", hue=\"Sex\", data=train_data, palette=('Set2'), kind=\"point\", ax=axes)\n",
    "plt.close(plot.fig)\n",
    "plt.show()\n",
    "display(train_data[train_data['Embarked'].isnull()])"
   ]
  },
  {
   "cell_type": "code",
   "execution_count": 41,
   "metadata": {},
   "outputs": [],
   "source": [
    "def preprocess_data(df):\n",
    "    \n",
    "    processed_data = df\n",
    "    \n",
    "    \n",
    "    ##to fill the missing values of embarked column as seen above\n",
    "    processed_data['Embarked'].fillna('C', inplace=True)\n",
    "    \n",
    "    ##to fill the missing values of Age by calculating mean\n",
    "    processed_data['Age'] = processed_data.groupby(['Pclass','Sex','Parch','SibSp'])['Age'].transform(lambda x: x.fillna(x.mean()))\n",
    "    processed_data['Age'] = processed_data.groupby(['Pclass','Sex','Parch'])['Age'].transform(lambda x: x.fillna(x.mean()))\n",
    "    processed_data['Age'] = processed_data.groupby(['Pclass','Sex'])['Age'].transform(lambda x: x.fillna(x.mean()))\n",
    "    \n",
    "    ## using interpolate function to take care of the missing values in fare column and Cabin colum\n",
    "    processed_data['Fare'] = processed_data['Fare'].interpolate()\n",
    "    processed_data['Cabin'].fillna('U', inplace=True)\n",
    "\n",
    "    ##to create new column name Title from name column\n",
    "    processed_data['Title'] = pd.Series((name.split('.')[0].split(',')[1].strip() for name in train_data['Name']), index=train_data.index)\n",
    "    processed_data['Title'] = processed_data['Title'].replace(['Lady', 'the Countess','Countess','Capt', 'Col','Don', 'Dr', 'Major', 'Rev', 'Sir', 'Jonkheer', 'Dona'], 'Rare')\n",
    "    processed_data['Title'] = processed_data['Title'].replace(['Mlle', 'Ms'], 'Miss')\n",
    "    processed_data['Title'] = processed_data['Title'].replace('Mme', 'Mrs')\n",
    "    processed_data['Title'] = processed_data['Title'].map({\"Mr\": 1, \"Miss\": 2, \"Mrs\": 3, \"Master\": 4, \"Rare\": 5})\n",
    "    \n",
    "     ##to fill the missing values of Age by calculating mean using column Title with same values\n",
    "    processed_data['Age'] = processed_data.groupby(['Title'])['Age'].transform(lambda x: x.fillna(x.mean()))\n",
    "    \n",
    "    ##changing categorical value to numerical value\n",
    "    processed_data['Sex'] = processed_data['Sex'].map({'male': 0, 'female': 1})\n",
    "    processed_data['Embarked'] = processed_data['Embarked'].map({'S': 0, 'C': 1, 'Q': 2})\n",
    "    \n",
    "    # creating size of the travel group based upon SibSp and Parch\n",
    "    processed_data['FamillySize'] = processed_data['SibSp'] + processed_data['Parch'] + 1\n",
    "    processed_data['FamillySize'][processed_data['FamillySize'].between(1, 5, inclusive=False)] = 2\n",
    "    processed_data['FamillySize'][processed_data['FamillySize']>5] = 3\n",
    "    processed_data['IsAlone'] = np.where(processed_data['FamillySize']!=1, 0, 1)\n",
    "    processed_data['IsChild'] = processed_data['Age'] < 18\n",
    "    processed_data['IsChild'] = processed_data['IsChild'].astype(int)\n",
    "    \n",
    "    ##strip the Cabin column to get only the first letter\n",
    "    processed_data['Cabin'] = processed_data['Cabin'].str[:1]\n",
    "    processed_data['Cabin'] = processed_data['Cabin'].map({cabin: p for p, cabin in enumerate(set(cab for cab in processed_data['Cabin']))})\n",
    "    \n",
    "    ##this new column is to set as 1 or 0 if an other passenger with same ticket is survived\n",
    "    processed_data['TicketSurvivor'] = pd.Series(0, index=processed_data.index)\n",
    "    tickets = processed_data['Ticket'].value_counts().to_dict()\n",
    "    for t, occ in tickets.items():\n",
    "        if occ != 1:\n",
    "            table = train_data['Survived'][train_data['Ticket'] == t]\n",
    "            if sum(table) != 0:\n",
    "                processed_data['TicketSurvivor'][processed_data['Ticket'] == t] = 1\n",
    "    \n",
    "\n",
    "    processed_data = processed_data.drop(['Name', 'Ticket', 'PassengerId'], 1)    \n",
    "    \n",
    "    return processed_data"
   ]
  },
  {
   "cell_type": "code",
   "execution_count": 42,
   "metadata": {},
   "outputs": [],
   "source": [
    "##dividing train test data\n",
    "train_data_dataframe = train_data.copy()\n",
    "X = train_data_dataframe.drop(['Survived'], 1)\n",
    "Y = train_data_dataframe['Survived']\n",
    "\n"
   ]
  },
  {
   "cell_type": "code",
   "execution_count": 43,
   "metadata": {},
   "outputs": [],
   "source": [
    "X = preprocess_data(X)"
   ]
  },
  {
   "cell_type": "code",
   "execution_count": 44,
   "metadata": {},
   "outputs": [
    {
     "name": "stdout",
     "output_type": "stream",
     "text": [
      "     Pclass  Sex        Age  SibSp  Parch     Fare  Cabin  Embarked  Title  \\\n",
      "0         3    0  22.000000      1      0   7.2500      2         0      1   \n",
      "1         1    1  38.000000      1      0  71.2833      1         1      3   \n",
      "2         3    1  26.000000      0      0   7.9250      2         0      2   \n",
      "3         1    1  35.000000      1      0  53.1000      1         0      3   \n",
      "4         3    0  35.000000      0      0   8.0500      2         0      1   \n",
      "..      ...  ...        ...    ...    ...      ...    ...       ...    ...   \n",
      "886       2    0  27.000000      0      0  13.0000      2         0      5   \n",
      "887       1    1  19.000000      0      0  30.0000      5         0      2   \n",
      "888       3    1  14.346939      1      2  23.4500      2         0      2   \n",
      "889       1    0  26.000000      0      0  30.0000      1         1      1   \n",
      "890       3    0  32.000000      0      0   7.7500      2         2      1   \n",
      "\n",
      "     FamillySize  IsAlone  IsChild  TicketSurvivor  \n",
      "0              2        0        0               0  \n",
      "1              2        0        0               0  \n",
      "2              1        1        0               0  \n",
      "3              2        0        0               1  \n",
      "4              1        1        0               0  \n",
      "..           ...      ...      ...             ...  \n",
      "886            1        1        0               0  \n",
      "887            1        1        0               0  \n",
      "888            2        0        1               0  \n",
      "889            1        1        0               0  \n",
      "890            1        1        0               0  \n",
      "\n",
      "[891 rows x 13 columns]\n"
     ]
    }
   ],
   "source": [
    "print(X)"
   ]
  },
  {
   "cell_type": "code",
   "execution_count": 45,
   "metadata": {},
   "outputs": [
    {
     "data": {
      "text/html": [
       "<div>\n",
       "<style scoped>\n",
       "    .dataframe tbody tr th:only-of-type {\n",
       "        vertical-align: middle;\n",
       "    }\n",
       "\n",
       "    .dataframe tbody tr th {\n",
       "        vertical-align: top;\n",
       "    }\n",
       "\n",
       "    .dataframe thead th {\n",
       "        text-align: right;\n",
       "    }\n",
       "</style>\n",
       "<table border=\"1\" class=\"dataframe\">\n",
       "  <thead>\n",
       "    <tr style=\"text-align: right;\">\n",
       "      <th></th>\n",
       "      <th>Pclass</th>\n",
       "      <th>Sex</th>\n",
       "      <th>Age</th>\n",
       "      <th>SibSp</th>\n",
       "      <th>Parch</th>\n",
       "      <th>Fare</th>\n",
       "      <th>Cabin</th>\n",
       "      <th>Embarked</th>\n",
       "      <th>Title</th>\n",
       "      <th>FamillySize</th>\n",
       "      <th>IsAlone</th>\n",
       "      <th>IsChild</th>\n",
       "      <th>TicketSurvivor</th>\n",
       "    </tr>\n",
       "  </thead>\n",
       "  <tbody>\n",
       "    <tr>\n",
       "      <td>331</td>\n",
       "      <td>-1.566107</td>\n",
       "      <td>-0.737695</td>\n",
       "      <td>1.181540</td>\n",
       "      <td>-0.474545</td>\n",
       "      <td>-0.473674</td>\n",
       "      <td>-0.074583</td>\n",
       "      <td>-1.093803</td>\n",
       "      <td>-0.571933</td>\n",
       "      <td>-0.707550</td>\n",
       "      <td>-0.670389</td>\n",
       "      <td>0.811922</td>\n",
       "      <td>-0.405840</td>\n",
       "      <td>-0.596795</td>\n",
       "    </tr>\n",
       "    <tr>\n",
       "      <td>733</td>\n",
       "      <td>-0.369365</td>\n",
       "      <td>-0.737695</td>\n",
       "      <td>-0.483367</td>\n",
       "      <td>-0.474545</td>\n",
       "      <td>-0.473674</td>\n",
       "      <td>-0.386671</td>\n",
       "      <td>-0.307218</td>\n",
       "      <td>-0.571933</td>\n",
       "      <td>-0.707550</td>\n",
       "      <td>-0.670389</td>\n",
       "      <td>0.811922</td>\n",
       "      <td>-0.405840</td>\n",
       "      <td>-0.596795</td>\n",
       "    </tr>\n",
       "    <tr>\n",
       "      <td>382</td>\n",
       "      <td>0.827377</td>\n",
       "      <td>-0.737695</td>\n",
       "      <td>0.182596</td>\n",
       "      <td>-0.474545</td>\n",
       "      <td>-0.473674</td>\n",
       "      <td>-0.488854</td>\n",
       "      <td>-0.307218</td>\n",
       "      <td>-0.571933</td>\n",
       "      <td>-0.707550</td>\n",
       "      <td>-0.670389</td>\n",
       "      <td>0.811922</td>\n",
       "      <td>-0.405840</td>\n",
       "      <td>-0.596795</td>\n",
       "    </tr>\n",
       "    <tr>\n",
       "      <td>704</td>\n",
       "      <td>0.827377</td>\n",
       "      <td>-0.737695</td>\n",
       "      <td>-0.261380</td>\n",
       "      <td>0.432793</td>\n",
       "      <td>-0.473674</td>\n",
       "      <td>-0.490280</td>\n",
       "      <td>-0.307218</td>\n",
       "      <td>-0.571933</td>\n",
       "      <td>-0.707550</td>\n",
       "      <td>0.668886</td>\n",
       "      <td>-1.231645</td>\n",
       "      <td>-0.405840</td>\n",
       "      <td>-0.596795</td>\n",
       "    </tr>\n",
       "    <tr>\n",
       "      <td>813</td>\n",
       "      <td>0.827377</td>\n",
       "      <td>1.355574</td>\n",
       "      <td>-1.741297</td>\n",
       "      <td>3.154809</td>\n",
       "      <td>2.008933</td>\n",
       "      <td>-0.018709</td>\n",
       "      <td>-0.307218</td>\n",
       "      <td>-0.571933</td>\n",
       "      <td>0.263832</td>\n",
       "      <td>2.008162</td>\n",
       "      <td>-1.231645</td>\n",
       "      <td>2.464027</td>\n",
       "      <td>-0.596795</td>\n",
       "    </tr>\n",
       "  </tbody>\n",
       "</table>\n",
       "</div>"
      ],
      "text/plain": [
       "       Pclass       Sex       Age     SibSp     Parch      Fare     Cabin  \\\n",
       "331 -1.566107 -0.737695  1.181540 -0.474545 -0.473674 -0.074583 -1.093803   \n",
       "733 -0.369365 -0.737695 -0.483367 -0.474545 -0.473674 -0.386671 -0.307218   \n",
       "382  0.827377 -0.737695  0.182596 -0.474545 -0.473674 -0.488854 -0.307218   \n",
       "704  0.827377 -0.737695 -0.261380  0.432793 -0.473674 -0.490280 -0.307218   \n",
       "813  0.827377  1.355574 -1.741297  3.154809  2.008933 -0.018709 -0.307218   \n",
       "\n",
       "     Embarked     Title  FamillySize   IsAlone   IsChild  TicketSurvivor  \n",
       "331 -0.571933 -0.707550    -0.670389  0.811922 -0.405840       -0.596795  \n",
       "733 -0.571933 -0.707550    -0.670389  0.811922 -0.405840       -0.596795  \n",
       "382 -0.571933 -0.707550    -0.670389  0.811922 -0.405840       -0.596795  \n",
       "704 -0.571933 -0.707550     0.668886 -1.231645 -0.405840       -0.596795  \n",
       "813 -0.571933  0.263832     2.008162 -1.231645  2.464027       -0.596795  "
      ]
     },
     "execution_count": 45,
     "metadata": {},
     "output_type": "execute_result"
    }
   ],
   "source": [
    "# X = preprocess_data(X)\n",
    "scale = StandardScaler()\n",
    "X = pd.DataFrame(scale.fit_transform(X.values), index=X.index, columns=X.columns)\n",
    "    \n",
    "# Split dataset for model testing\n",
    "X_train, X_test, Y_train, Y_test = train_test_split(X, Y, test_size=0.2, random_state=42)\n",
    "\n",
    "X_train.head()"
   ]
  },
  {
   "cell_type": "code",
   "execution_count": 46,
   "metadata": {},
   "outputs": [],
   "source": [
    "# Split dataset for model testing\n",
    "# X_train, X_test, Y_train, Y_test = train_test_split(X, Y, test_size=0.2, random_state=42)\n",
    "\n",
    "# X_train.head()"
   ]
  },
  {
   "cell_type": "markdown",
   "metadata": {},
   "source": [
    "Now that we are done with the preprocessing and split of the train data set to train our model, we can proceed to try different models. Here we are going to use the confusion matrix to display the results of the model so that it will be easy to understand and compare."
   ]
  },
  {
   "cell_type": "code",
   "execution_count": 47,
   "metadata": {},
   "outputs": [],
   "source": [
    "def display_confusion_matrix(target, prediction, score=None):\n",
    "    cm = metrics.confusion_matrix(target, prediction)\n",
    "    plt.figure(figsize=(6,6))\n",
    "    sns.heatmap(cm, annot=True, fmt=\".3f\", linewidths=.5, square=True, cmap='Blues_r')\n",
    "    plt.ylabel('Actual label')\n",
    "    plt.xlabel('Predicted label')\n",
    "    if score:\n",
    "        score_title = 'Accuracy Score: {0}'.format(round(score, 5))\n",
    "        plt.title(score_title, size = 14)\n",
    "    classification_report = pd.DataFrame.from_dict(metrics.classification_report(target, prediction, output_dict=True), orient='index')\n",
    "    display(classification_report.round(2))"
   ]
  },
  {
   "cell_type": "markdown",
   "metadata": {},
   "source": [
    "### MODELS:\n",
    "\n",
    "The following machine learning models have been used :\n",
    "\n",
    "1)Logistic Regression : \n",
    "\n",
    "Logistic regression is a statistical model that in its basic form uses a logistic function to model a binary dependent variable, although many more complex extensions exist. In regression analysis, logistic regression[1] (or logit regression) is estimating the parameters of a logistic model (a form of binary regression).( source : Wikipedia)\n",
    "\n",
    "2)Decision Tree:\n",
    "\n",
    "Decision tree learning is one of the predictive modelling approaches used in statistics, data mining and machine learning. It uses a decision tree (as a predictive model) to go from observations about an item (represented in the branches) to conclusions about the item's target value (represented in the leaves). Tree models where the target variable can take a discrete set of values are called classification trees; in these tree structures, leaves represent class labels and branches represent conjunctions of features that lead to those class labels. (source : Wikipedia)\n",
    "\n",
    "Here , we use DECISION TREE CLASSIFIER\n",
    "\n",
    "\n",
    "3)Support Vector Machine (SVC):\n",
    "\n",
    "In machine learning, support-vector machines (SVMs, also support-vector networks[1]) are supervised learning models with associated learning algorithms that analyze data used for classification and regression analysis.(source : Wikipedia)\n",
    "\n",
    "4) Random Forest Classifier:\n",
    "\n",
    "Random forests or random decision forests are an ensemble learning method for classification, regression and other tasks that operate by constructing a multitude of decision trees at training time and outputting the class that is the mode of the classes (classification) or mean prediction (regression) of the individual trees.(source : Wikipedia)\n",
    "\n",
    "5) Artificial Neural Network:\n",
    "\n",
    "Artificial neural networks (ANNs), usually simply called neural networks (NNs), are computing systems vaguely inspired by the biological neural networks that constitute animal brains.An ANN is based on a collection of connected units or nodes called artificial neurons, which loosely model the neurons in a biological brain. Each connection, like the synapses in a biological brain, can transmit a signal to other neurons. An artificial neuron that receives a signal then processes it and can signal neurons connected to it.(source : Wikipedia)\n",
    "\n"
   ]
  },
  {
   "cell_type": "markdown",
   "metadata": {},
   "source": [
    "#### Logistic Regression"
   ]
  },
  {
   "cell_type": "code",
   "execution_count": 48,
   "metadata": {},
   "outputs": [
    {
     "name": "stdout",
     "output_type": "stream",
     "text": [
      "Accuracy score of logistic regression model is : 0.8212290502793296\n",
      "Precision score of logistic regression model is : 0.8088235294117647\n",
      "Recall score of logistic regression model is : 0.7432432432432432\n",
      "F1 score of logistic regression model is : 0.7746478873239436\n",
      "MSE_Logistic_regression: 0.1788\n",
      "RMSE_Logistic_regression: 0.4228\n",
      "MAE_Logistic_regression: 0.1788\n",
      "\n",
      "\n",
      "Confusion matrix of logistic regression is : [[92 13]\n",
      " [19 55]]\n"
     ]
    },
    {
     "data": {
      "image/png": "[encoded data removed]",
      "text/plain": [
       "<Figure size 360x360 with 2 Axes>"
      ]
     },
     "metadata": {
      "needs_background": "light"
     },
     "output_type": "display_data"
    }
   ],
   "source": [
    "\n",
    "lg = LogisticRegression(solver='lbfgs', random_state=42)\n",
    "lg.fit(X_train, Y_train)\n",
    "\n",
    "\n",
    "logistic_prediction = lg.predict(X_test)\n",
    "\n",
    "\n",
    "accuracy_score_logistic = metrics.accuracy_score(Y_test, logistic_prediction)\n",
    "precision_score_logistic = precision_score(Y_test, logistic_prediction)\n",
    "recall_score_logistic = recall_score(Y_test, logistic_prediction)\n",
    "f1_score_logistic = f1_score(Y_test, logistic_prediction)\n",
    "# display_confusion_matrix(Y_test, logistic_prediction, score=score)\n",
    "\n",
    "print(\"Accuracy score of logistic regression model is :\",accuracy_score_logistic)\n",
    "print(\"Precision score of logistic regression model is :\",precision_score_logistic)\n",
    "print(\"Recall score of logistic regression model is :\",recall_score_logistic)\n",
    "print(\"F1 score of logistic regression model is :\",f1_score_logistic)\n",
    "\n",
    "fig, ax = plt.subplots(figsize=(5,5))         # Sample figsize in inches\n",
    "\n",
    "mse_logistic_regression =mean_squared_error(Y_test, logistic_prediction)\n",
    "rmse_log_reg =np.sqrt(mse_logistic_regression)\n",
    "\n",
    "lin_mae = mean_absolute_error(Y_test, logistic_prediction)\n",
    "\n",
    "\n",
    "print(\"MSE_Logistic_regression: %.4f\" % mse_logistic_regression)\n",
    "print(\"RMSE_Logistic_regression: %.4f\" % rmse_log_reg)\n",
    "print(\"MAE_Logistic_regression: %.4f\" % lin_mae)\n",
    "\n",
    "confusion_matrix_logistic_regression = confusion_matrix(Y_test, logistic_prediction)\n",
    "\n",
    "print(\"\\n\")\n",
    "print(\"Confusion matrix of logistic regression is :\",confusion_matrix_logistic_regression)\n",
    "# sns.heatmap(confusion_matrix_logistic_regression,fmt=\".3f\", linewidths=.5, square=True)\n",
    "\n",
    "sns.heatmap(confusion_matrix_logistic_regression, annot=True, linewidths=.5, ax=ax)\n",
    "plt.show()\n",
    "\n",
    "# plot_confusion_matrix(lg, Y_test, logistic_prediction)\n",
    "# plt.show()"
   ]
  },
  {
   "cell_type": "markdown",
   "metadata": {},
   "source": [
    "#### Decision Tree"
   ]
  },
  {
   "cell_type": "code",
   "execution_count": 49,
   "metadata": {},
   "outputs": [
    {
     "name": "stdout",
     "output_type": "stream",
     "text": [
      "Accuracy score of Decision Tree model is : 0.8491620111731844\n",
      "Precision score of Decision Tree model is : 0.8051948051948052\n",
      "Recall score of Decision Tree model is : 0.8378378378378378\n",
      "F1 score of Decision Tree model is : 0.8211920529801325\n",
      "decision_tree_MSE: 0.1508\n",
      "decision_tree_RMSE: 0.3884\n",
      "decision_tree_MAE: 0.1508\n",
      "\n",
      "\n",
      "Confusion matrix of Decision_Tree is : [[90 15]\n",
      " [12 62]]\n"
     ]
    },
    {
     "data": {
      "image/png": "[encoded data removed]",
      "text/plain": [
       "<Figure size 360x360 with 2 Axes>"
      ]
     },
     "metadata": {
      "needs_background": "light"
     },
     "output_type": "display_data"
    }
   ],
   "source": [
    "dt = DecisionTreeClassifier(min_samples_split=15, min_samples_leaf=20, random_state=42)\n",
    "dt.fit(X_train, Y_train)\n",
    "dt_prediction = dt.predict(X_test)\n",
    "\n",
    "# score = metrics.accuracy_score(Y_test, dt_prediction)\n",
    "# display_confusion_matrix(Y_test, dt_prediction, score=score)\n",
    "\n",
    "accuracy_score_decision = metrics.accuracy_score(Y_test, dt_prediction)\n",
    "precision_score_decision = precision_score(Y_test, dt_prediction)\n",
    "recall_score_decision = recall_score(Y_test, dt_prediction)\n",
    "f1_score_decision = f1_score(Y_test, dt_prediction)\n",
    "\n",
    "print(\"Accuracy score of Decision Tree model is :\",accuracy_score_decision)\n",
    "print(\"Precision score of Decision Tree model is :\",precision_score_decision)\n",
    "print(\"Recall score of Decision Tree model is :\",recall_score_decision)\n",
    "print(\"F1 score of Decision Tree model is :\",f1_score_decision)\n",
    "\n",
    "\n",
    "decision_tree_mse =mean_squared_error(Y_test, dt_prediction)\n",
    "decision_tree_rmse=np.sqrt(decision_tree_mse)\n",
    "decision_tree_lin_mae = mean_absolute_error(Y_test, dt_prediction)\n",
    "\n",
    "print(\"decision_tree_MSE: %.4f\" % decision_tree_mse)\n",
    "print(\"decision_tree_RMSE: %.4f\" % decision_tree_rmse)\n",
    "print(\"decision_tree_MAE: %.4f\" % decision_tree_lin_mae)\n",
    "\n",
    "print(\"\\n\")\n",
    "\n",
    "fig, ax = plt.subplots(figsize=(5,5))         # Sample figsize in inches\n",
    "confusion_matrix_Decision_Tree = confusion_matrix(Y_test, dt_prediction)\n",
    "\n",
    "print(\"Confusion matrix of Decision_Tree is :\",confusion_matrix_Decision_Tree)\n",
    "# sns.heatmap(confusion_matrix_logistic_regression,fmt=\".3f\", linewidths=.5, square=True)\n",
    "sns.heatmap(confusion_matrix_Decision_Tree, annot=True, linewidths=.5, ax=ax)\n",
    "plt.show()"
   ]
  },
  {
   "cell_type": "markdown",
   "metadata": {},
   "source": [
    "#### Support Vector Machine"
   ]
  },
  {
   "cell_type": "code",
   "execution_count": 50,
   "metadata": {},
   "outputs": [
    {
     "name": "stdout",
     "output_type": "stream",
     "text": [
      "Accuracy score of SVM model is : 0.8491620111731844\n",
      "Precision score of SVM model is : 0.873015873015873\n",
      "Recall score of SVM model is : 0.7432432432432432\n",
      "F1 score of SVM model is : 0.8029197080291971\n",
      "SVM_MSE: 0.1508\n",
      "SVM_rmse: 0.3884\n",
      "SVM_mae: 0.1508\n",
      "\n",
      "\n",
      "Confusion matrix of SVM is : [[97  8]\n",
      " [19 55]]\n"
     ]
    },
    {
     "data": {
      "image/png": "[encoded data removed]",
      "text/plain": [
       "<Figure size 360x360 with 2 Axes>"
      ]
     },
     "metadata": {
      "needs_background": "light"
     },
     "output_type": "display_data"
    }
   ],
   "source": [
    "svm = SVC(gamma='auto', random_state=42,probability=True)\n",
    "svm.fit(X_train, Y_train)\n",
    "svm_prediction = svm.predict(X_test)\n",
    "\n",
    "# score = metrics.accuracy_score(Y_test, svm_prediction)\n",
    "# display_confusion_matrix(Y_test, svm_prediction, score=score)\n",
    "\n",
    "accuracy_score_svm = metrics.accuracy_score(Y_test, svm_prediction)\n",
    "precision_score_svm = precision_score(Y_test, svm_prediction)\n",
    "recall_score_svm = recall_score(Y_test, svm_prediction)\n",
    "f1_score_svm = f1_score(Y_test, svm_prediction)\n",
    "\n",
    "print(\"Accuracy score of SVM model is :\", accuracy_score_svm)\n",
    "print(\"Precision score of SVM model is :\",precision_score_svm)\n",
    "print(\"Recall score of SVM model is :\",recall_score_svm)\n",
    "print(\"F1 score of SVM model is :\",f1_score_svm)\n",
    "SVM_mse =mean_squared_error(Y_test, svm_prediction)\n",
    "SVM_rmse =np.sqrt(SVM_mse)\n",
    "SVM_mae = mean_absolute_error(Y_test, svm_prediction)\n",
    "\n",
    "print(\"SVM_MSE: %.4f\" % SVM_mse)\n",
    "print(\"SVM_rmse: %.4f\" % SVM_rmse)\n",
    "print(\"SVM_mae: %.4f\" % SVM_mae)\n",
    "print(\"\\n\")\n",
    "fig, ax = plt.subplots(figsize=(5,5))         # Sample figsize in inches\n",
    "confusion_matrix_SVM = confusion_matrix(Y_test, svm_prediction)\n",
    "\n",
    "print(\"Confusion matrix of SVM is :\",confusion_matrix_SVM)\n",
    "# sns.heatmap(confusion_matrix_logistic_regression,fmt=\".3f\", linewidths=.5, square=True)\n",
    "sns.heatmap(confusion_matrix_SVM, annot=True, linewidths=.5, ax=ax)\n",
    "plt.show()"
   ]
  },
  {
   "cell_type": "markdown",
   "metadata": {},
   "source": [
    "#### Random Forest"
   ]
  },
  {
   "cell_type": "code",
   "execution_count": 51,
   "metadata": {},
   "outputs": [
    {
     "name": "stdout",
     "output_type": "stream",
     "text": [
      "Accuracy score of Random Forest model is : 0.8603351955307262\n",
      "Precision score of Random Forest model is : 0.8450704225352113\n",
      "Recall score of Random Forest model is : 0.8108108108108109\n",
      "F1 score of Random Forest model is : 0.8275862068965518\n",
      "RF_MSE: 0.1397\n",
      "RF_rmse: 0.3884\n",
      "RF_mae: 0.1397\n",
      "\n",
      "\n",
      "Confusion matrix of Random Forest is : [[94 11]\n",
      " [14 60]]\n"
     ]
    },
    {
     "data": {
      "image/png": "[encoded data removed]",
      "text/plain": [
       "<Figure size 360x360 with 2 Axes>"
      ]
     },
     "metadata": {
      "needs_background": "light"
     },
     "output_type": "display_data"
    }
   ],
   "source": [
    "rf = RandomForestClassifier(n_estimators=200, random_state=42)\n",
    "rf.fit(X_train, Y_train)\n",
    "rf_prediction = rf.predict(X_test)\n",
    "\n",
    "# score = metrics.accuracy_score(Y_test, rf_prediction)\n",
    "# display_confusion_matrix(Y_test, rf_prediction, score=score)\n",
    "\n",
    "\n",
    "accuracy_score_rf = metrics.accuracy_score(Y_test, rf_prediction)\n",
    "precision_score_rf = precision_score(Y_test, rf_prediction)\n",
    "recall_score_rf = recall_score(Y_test, rf_prediction)\n",
    "f1_score_rf = f1_score(Y_test, rf_prediction)\n",
    "\n",
    "\n",
    "print(\"Accuracy score of Random Forest model is :\",accuracy_score_rf)\n",
    "print(\"Precision score of Random Forest model is :\",precision_score_rf)\n",
    "print(\"Recall score of Random Forest model is :\",recall_score_rf)\n",
    "print(\"F1 score of Random Forest model is :\",f1_score_rf)\n",
    "\n",
    "\n",
    "RF_mse =mean_squared_error(Y_test, rf_prediction)\n",
    "RF_rmse =np.sqrt(SVM_mse)\n",
    "RF_mae = mean_absolute_error(Y_test, rf_prediction)\n",
    "\n",
    "print(\"RF_MSE: %.4f\" % RF_mse)\n",
    "print(\"RF_rmse: %.4f\" % RF_rmse)\n",
    "print(\"RF_mae: %.4f\" % RF_mae)\n",
    "\n",
    "print(\"\\n\")\n",
    "\n",
    "\n",
    "fig, ax = plt.subplots(figsize=(5,5))         # Sample figsize in inches\n",
    "confusion_matrix_rf = confusion_matrix(Y_test, rf_prediction)\n",
    "\n",
    "print(\"Confusion matrix of Random Forest is :\",confusion_matrix_rf)\n",
    "# sns.heatmap(confusion_matrix_logistic_regression,fmt=\".3f\", linewidths=.5, square=True)\n",
    "sns.heatmap(confusion_matrix_rf, annot=True, linewidths=.5, ax=ax)\n",
    "plt.show()\n"
   ]
  },
  {
   "cell_type": "markdown",
   "metadata": {},
   "source": [
    "### Neural Network:"
   ]
  },
  {
   "cell_type": "code",
   "execution_count": 52,
   "metadata": {},
   "outputs": [],
   "source": [
    "def build_ann(optimizer='adam'):\n",
    "    \n",
    "    ann = Sequential()\n",
    "    \n",
    "    # input layer\n",
    "    ann.add(Dense(units=32, kernel_initializer='glorot_uniform', activation='relu', input_shape=(13,)))\n",
    "    \n",
    "    # hidden layer\n",
    "    ann.add(Dense(units=64, kernel_initializer='glorot_uniform', activation='relu'))\n",
    "    ann.add(Dropout(rate=0.5))\n",
    "    ann.add(Dense(units=64, kernel_initializer='glorot_uniform', activation='relu'))\n",
    "    ann.add(Dropout(rate=0.5))\n",
    "    \n",
    "    # output layer\n",
    "    ann.add(Dense(units=1, kernel_initializer='glorot_uniform', activation='sigmoid'))\n",
    "    \n",
    "    # Compile the model\n",
    "    ann.compile(optimizer=optimizer, loss='binary_crossentropy', metrics=['accuracy'])\n",
    "    \n",
    "    return ann"
   ]
  },
  {
   "cell_type": "code",
   "execution_count": 53,
   "metadata": {},
   "outputs": [
    {
     "name": "stdout",
     "output_type": "stream",
     "text": [
      "WARNING:tensorflow:From C:\\Users\\HP\\Anaconda3\\lib\\site-packages\\tensorflow\\python\\ops\\nn_impl.py:180: add_dispatch_support.<locals>.wrapper (from tensorflow.python.ops.array_ops) is deprecated and will be removed in a future version.\n",
      "Instructions for updating:\n",
      "Use tf.where in 2.0, which has the same broadcast rule as np.where\n",
      "WARNING:tensorflow:From C:\\Users\\HP\\Anaconda3\\lib\\site-packages\\keras\\backend\\tensorflow_backend.py:422: The name tf.global_variables is deprecated. Please use tf.compat.v1.global_variables instead.\n",
      "\n",
      "Train on 712 samples, validate on 179 samples\n",
      "Epoch 1/30\n",
      "712/712 [==============================] - 1s 745us/step - loss: 0.6483 - accuracy: 0.6334 - val_loss: 0.5339 - val_accuracy: 0.7430\n",
      "Epoch 2/30\n",
      "712/712 [==============================] - 0s 112us/step - loss: 0.5540 - accuracy: 0.7219 - val_loss: 0.4494 - val_accuracy: 0.7765\n",
      "Epoch 3/30\n",
      "712/712 [==============================] - 0s 132us/step - loss: 0.4795 - accuracy: 0.8006 - val_loss: 0.4123 - val_accuracy: 0.7877\n",
      "Epoch 4/30\n",
      "712/712 [==============================] - 0s 125us/step - loss: 0.4391 - accuracy: 0.8258 - val_loss: 0.3909 - val_accuracy: 0.8101\n",
      "Epoch 5/30\n",
      "712/712 [==============================] - 0s 93us/step - loss: 0.4223 - accuracy: 0.8216 - val_loss: 0.3823 - val_accuracy: 0.8156\n",
      "Epoch 6/30\n",
      "712/712 [==============================] - 0s 108us/step - loss: 0.4306 - accuracy: 0.8272 - val_loss: 0.3726 - val_accuracy: 0.8156\n",
      "Epoch 7/30\n",
      "712/712 [==============================] - 0s 130us/step - loss: 0.4146 - accuracy: 0.8427 - val_loss: 0.3706 - val_accuracy: 0.8156\n",
      "Epoch 8/30\n",
      "712/712 [==============================] - 0s 112us/step - loss: 0.4139 - accuracy: 0.8399 - val_loss: 0.3662 - val_accuracy: 0.8212\n",
      "Epoch 9/30\n",
      "712/712 [==============================] - 0s 139us/step - loss: 0.4130 - accuracy: 0.8357 - val_loss: 0.3611 - val_accuracy: 0.8268\n",
      "Epoch 10/30\n",
      "712/712 [==============================] - 0s 122us/step - loss: 0.3845 - accuracy: 0.8427 - val_loss: 0.3632 - val_accuracy: 0.8268\n",
      "Epoch 11/30\n",
      "712/712 [==============================] - 0s 120us/step - loss: 0.3863 - accuracy: 0.8455 - val_loss: 0.3622 - val_accuracy: 0.8268\n",
      "Epoch 12/30\n",
      "712/712 [==============================] - 0s 102us/step - loss: 0.3931 - accuracy: 0.8413 - val_loss: 0.3639 - val_accuracy: 0.8268\n",
      "Epoch 13/30\n",
      "712/712 [==============================] - 0s 119us/step - loss: 0.3684 - accuracy: 0.8567 - val_loss: 0.3650 - val_accuracy: 0.8268\n",
      "Epoch 14/30\n",
      "712/712 [==============================] - 0s 126us/step - loss: 0.3784 - accuracy: 0.8497 - val_loss: 0.3653 - val_accuracy: 0.8268\n",
      "Epoch 15/30\n",
      "712/712 [==============================] - 0s 148us/step - loss: 0.3606 - accuracy: 0.8581 - val_loss: 0.3646 - val_accuracy: 0.8212\n",
      "Epoch 16/30\n",
      "712/712 [==============================] - 0s 106us/step - loss: 0.3675 - accuracy: 0.8638 - val_loss: 0.3618 - val_accuracy: 0.8324\n",
      "Epoch 17/30\n",
      "712/712 [==============================] - 0s 102us/step - loss: 0.3581 - accuracy: 0.8567 - val_loss: 0.3630 - val_accuracy: 0.8324\n",
      "Epoch 18/30\n",
      "712/712 [==============================] - 0s 113us/step - loss: 0.3543 - accuracy: 0.8652 - val_loss: 0.3647 - val_accuracy: 0.8324\n",
      "Epoch 19/30\n",
      "712/712 [==============================] - 0s 132us/step - loss: 0.3551 - accuracy: 0.8610 - val_loss: 0.3715 - val_accuracy: 0.8324\n",
      "Epoch 20/30\n",
      "712/712 [==============================] - 0s 122us/step - loss: 0.3645 - accuracy: 0.8610 - val_loss: 0.3680 - val_accuracy: 0.8380\n",
      "Epoch 21/30\n",
      "712/712 [==============================] - 0s 114us/step - loss: 0.3700 - accuracy: 0.8567 - val_loss: 0.3691 - val_accuracy: 0.8324\n",
      "Epoch 22/30\n",
      "712/712 [==============================] - 0s 98us/step - loss: 0.3596 - accuracy: 0.8553 - val_loss: 0.3690 - val_accuracy: 0.8380\n",
      "Epoch 23/30\n",
      "712/712 [==============================] - 0s 168us/step - loss: 0.3577 - accuracy: 0.8469 - val_loss: 0.3683 - val_accuracy: 0.8324\n",
      "Epoch 24/30\n",
      "712/712 [==============================] - 0s 201us/step - loss: 0.3517 - accuracy: 0.8666 - val_loss: 0.3614 - val_accuracy: 0.8324\n",
      "Epoch 25/30\n",
      "712/712 [==============================] - 0s 130us/step - loss: 0.3470 - accuracy: 0.8539 - val_loss: 0.3671 - val_accuracy: 0.8324\n",
      "Epoch 26/30\n",
      "712/712 [==============================] - 0s 106us/step - loss: 0.3498 - accuracy: 0.8511 - val_loss: 0.3660 - val_accuracy: 0.8324\n",
      "Epoch 27/30\n",
      "712/712 [==============================] - 0s 122us/step - loss: 0.3488 - accuracy: 0.8652 - val_loss: 0.3654 - val_accuracy: 0.8324\n",
      "Epoch 28/30\n",
      "712/712 [==============================] - 0s 126us/step - loss: 0.3352 - accuracy: 0.8708 - val_loss: 0.3676 - val_accuracy: 0.8324\n",
      "Epoch 29/30\n",
      "712/712 [==============================] - 0s 131us/step - loss: 0.3553 - accuracy: 0.8624 - val_loss: 0.3774 - val_accuracy: 0.8380\n",
      "Epoch 30/30\n",
      "712/712 [==============================] - 0s 130us/step - loss: 0.3526 - accuracy: 0.8581 - val_loss: 0.3716 - val_accuracy: 0.8380\n"
     ]
    }
   ],
   "source": [
    "opt = optimizers.Adam(lr=0.001)\n",
    "ann = build_ann(opt)\n",
    "# Training the ANN\n",
    "history = ann.fit(X_train, Y_train, batch_size=16, epochs=30, validation_data=(X_test, Y_test))"
   ]
  },
  {
   "cell_type": "code",
   "execution_count": 54,
   "metadata": {},
   "outputs": [
    {
     "name": "stdout",
     "output_type": "stream",
     "text": [
      "Accuracy score of Artificial Neural Network is : 0.8379888268156425\n",
      "Precision score of Artificial Neural Network is : 0.8688524590163934\n",
      "Recall score of Artificial Neural Network is : 0.7162162162162162\n",
      "F1 score of Artificial Neural Network is : 0.7851851851851852\n",
      "Artificial Neural Network_MSE: 0.1620\n",
      "Artificial Neural Network_RMSE: 0.4025\n",
      "Artificial Neural Network_MAE: 0.1620\n",
      "\n",
      "\n",
      "Confusion matrix of Artificial Neural Network is : [[97  8]\n",
      " [21 53]]\n"
     ]
    },
    {
     "data": {
      "image/png": "[encoded data removed]",
      "text/plain": [
       "<Figure size 360x360 with 2 Axes>"
      ]
     },
     "metadata": {
      "needs_background": "light"
     },
     "output_type": "display_data"
    }
   ],
   "source": [
    "# Predicting the Test set results\n",
    "ann_prediction = ann.predict(X_test)\n",
    "ann_prediction = (ann_prediction > 0.5) # convert probabilities to binary output\n",
    "\n",
    "accuracy_score_ann = metrics.accuracy_score(Y_test, ann_prediction)\n",
    "precision_score_ann = precision_score(Y_test, ann_prediction)\n",
    "recall_score_ann = recall_score(Y_test, ann_prediction)\n",
    "f1_score_ann = f1_score(Y_test, ann_prediction)\n",
    "\n",
    "print(\"Accuracy score of Artificial Neural Network is :\",accuracy_score_ann)\n",
    "print(\"Precision score of Artificial Neural Network is :\",precision_score_ann)\n",
    "print(\"Recall score of Artificial Neural Network is :\",recall_score_ann)\n",
    "print(\"F1 score of Artificial Neural Network is :\",f1_score_ann)\n",
    "\n",
    "\n",
    "ann_mse =mean_squared_error(Y_test, ann_prediction)\n",
    "ann_rmse=np.sqrt(ann_mse)\n",
    "ann_lin_mae = mean_absolute_error(Y_test, ann_prediction)\n",
    "\n",
    "print(\"Artificial Neural Network_MSE: %.4f\" % ann_mse)\n",
    "print(\"Artificial Neural Network_RMSE: %.4f\" % ann_rmse)\n",
    "print(\"Artificial Neural Network_MAE: %.4f\" % ann_lin_mae)\n",
    "\n",
    "print(\"\\n\")\n",
    "\n",
    "fig, ax = plt.subplots(figsize=(5,5)) \n",
    "confusion_matrix_Ann = confusion_matrix(Y_test, ann_prediction)\n",
    "\n",
    "print(\"Confusion matrix of Artificial Neural Network is :\",confusion_matrix_Ann)\n",
    "sns.heatmap(confusion_matrix_Ann, annot=True, linewidths=.5, ax=ax)\n",
    "plt.show()"
   ]
  },
  {
   "cell_type": "markdown",
   "metadata": {},
   "source": [
    "### Using Ensemble method"
   ]
  },
  {
   "cell_type": "code",
   "execution_count": 55,
   "metadata": {},
   "outputs": [],
   "source": [
    "class EsemblingClassifier:\n",
    "    \n",
    "    def __init__(self, verbose=True):\n",
    "        self.ann = build_ann(optimizer=optimizers.Adam(lr=0.001))\n",
    "        self.rf = RandomForestClassifier(n_estimators=300, max_depth=11, random_state=42)\n",
    "        self.svm = SVC(random_state=42)\n",
    "        self.trained = False\n",
    "        self.verbose = verbose\n",
    "        \n",
    "    def fit(self, X, y):\n",
    "        if self.verbose:\n",
    "            print('Fitting models')\n",
    "        self.ann.fit(X, y, epochs=30, batch_size=16, verbose=0)\n",
    "        self.rf.fit(X, y)\n",
    "        self.svm.fit(X, y)\n",
    "        self.trained = True\n",
    "    \n",
    "    def predict(self, X):\n",
    "        if self.trained == False:\n",
    "            raise NotFittedError('Please train the classifier before making a prediction')\n",
    "        if self.verbose:\n",
    "            print('Making and combining predictions')\n",
    "        predictions = list()\n",
    "        pred_ann = self.ann.predict(X)\n",
    "        pred_ann = (pred_ann > 0.5)*1\n",
    "        pred_rf = self.rf.predict(X)\n",
    "        pred_svm = self.svm.predict(X)\n",
    "        for n in range(len(pred_ann)):\n",
    "            combined = pred_ann[n] + pred_rf[n] + pred_svm[n]\n",
    "            p = 0 if combined == 1 or combined == 0 else 1\n",
    "            predictions.append(p)\n",
    "        return predictions"
   ]
  },
  {
   "cell_type": "code",
   "execution_count": 56,
   "metadata": {},
   "outputs": [
    {
     "name": "stdout",
     "output_type": "stream",
     "text": [
      "Fitting models\n",
      "Making and combining predictions\n",
      "Accuracy score of Ensembling Classifier model is : 0.8491620111731844\n",
      "Precision score of Ensembling Classifier model is : 0.8051948051948052\n",
      "Recall score of Ensembling Classifier model is : 0.8378378378378378\n",
      "F1 score of Ensembling Classifier model is : 0.8211920529801325\n",
      "ens_MSE: 0.1508\n",
      "ens_RMSE: 0.3884\n",
      "ens_MAE: 0.1508\n",
      "\n",
      "\n",
      "Confusion matrix of Ensembling Classifier model is : [[90 15]\n",
      " [12 62]]\n"
     ]
    },
    {
     "data": {
      "image/png": "[encoded data removed]",
      "text/plain": [
       "<Figure size 360x360 with 2 Axes>"
      ]
     },
     "metadata": {
      "needs_background": "light"
     },
     "output_type": "display_data"
    }
   ],
   "source": [
    "ens = EsemblingClassifier()\n",
    "ens.fit(X_train, Y_train)\n",
    "ens_prediction = ens.predict(X_test)\n",
    "\n",
    "accuracy_score_decision = metrics.accuracy_score(Y_test, dt_prediction)\n",
    "precision_score_decision = precision_score(Y_test, dt_prediction)\n",
    "recall_score_decision = recall_score(Y_test, dt_prediction)\n",
    "f1_score_decision = f1_score(Y_test, dt_prediction)\n",
    "\n",
    "print(\"Accuracy score of Ensembling Classifier model is :\",accuracy_score_decision)\n",
    "print(\"Precision score of Ensembling Classifier model is :\",precision_score_decision)\n",
    "print(\"Recall score of Ensembling Classifier model is :\",recall_score_decision)\n",
    "print(\"F1 score of Ensembling Classifier model is :\",f1_score_decision)\n",
    "\n",
    "\n",
    "ens_mse =mean_squared_error(Y_test, dt_prediction)\n",
    "ens_rmse=np.sqrt(ens_mse)\n",
    "ens_lin_mae = mean_absolute_error(Y_test, dt_prediction)\n",
    "\n",
    "print(\"ens_MSE: %.4f\" % ens_mse)\n",
    "print(\"ens_RMSE: %.4f\" % ens_rmse)\n",
    "print(\"ens_MAE: %.4f\" % ens_lin_mae)\n",
    "\n",
    "print(\"\\n\")\n",
    "\n",
    "fig, ax = plt.subplots(figsize=(5,5))         # Sample figsize in inches\n",
    "confusion_matrix_ens = confusion_matrix(Y_test, dt_prediction)\n",
    "\n",
    "print(\"Confusion matrix of Ensembling Classifier model is :\",confusion_matrix_ens)\n",
    "# sns.heatmap(confusion_matrix_logistic_regression,fmt=\".3f\", linewidths=.5, square=True)\n",
    "sns.heatmap(confusion_matrix_ens, annot=True, linewidths=.5, ax=ax)\n",
    "plt.show()"
   ]
  },
  {
   "cell_type": "code",
   "execution_count": 95,
   "metadata": {},
   "outputs": [
    {
     "data": {
      "text/html": [
       "<div>\n",
       "<style scoped>\n",
       "    .dataframe tbody tr th:only-of-type {\n",
       "        vertical-align: middle;\n",
       "    }\n",
       "\n",
       "    .dataframe tbody tr th {\n",
       "        vertical-align: top;\n",
       "    }\n",
       "\n",
       "    .dataframe thead th {\n",
       "        text-align: right;\n",
       "    }\n",
       "</style>\n",
       "<table border=\"1\" class=\"dataframe\">\n",
       "  <thead>\n",
       "    <tr style=\"text-align: right;\">\n",
       "      <th></th>\n",
       "      <th>Pclass</th>\n",
       "      <th>Sex</th>\n",
       "      <th>Age</th>\n",
       "      <th>SibSp</th>\n",
       "      <th>Parch</th>\n",
       "      <th>Fare</th>\n",
       "      <th>Cabin</th>\n",
       "      <th>Embarked</th>\n",
       "      <th>Title</th>\n",
       "      <th>FamillySize</th>\n",
       "      <th>IsAlone</th>\n",
       "      <th>IsChild</th>\n",
       "      <th>TicketSurvivor</th>\n",
       "    </tr>\n",
       "  </thead>\n",
       "  <tbody>\n",
       "    <tr>\n",
       "      <td>0</td>\n",
       "      <td>0.873482</td>\n",
       "      <td>-0.755929</td>\n",
       "      <td>0.376278</td>\n",
       "      <td>-0.499470</td>\n",
       "      <td>-0.400248</td>\n",
       "      <td>-0.497185</td>\n",
       "      <td>-0.257036</td>\n",
       "      <td>2.243165</td>\n",
       "      <td>-0.756787</td>\n",
       "      <td>-0.664957</td>\n",
       "      <td>0.807573</td>\n",
       "      <td>-0.347338</td>\n",
       "      <td>-0.3253</td>\n",
       "    </tr>\n",
       "    <tr>\n",
       "      <td>1</td>\n",
       "      <td>0.873482</td>\n",
       "      <td>1.322876</td>\n",
       "      <td>1.340981</td>\n",
       "      <td>0.616992</td>\n",
       "      <td>-0.400248</td>\n",
       "      <td>-0.512048</td>\n",
       "      <td>-0.257036</td>\n",
       "      <td>-0.677841</td>\n",
       "      <td>1.245346</td>\n",
       "      <td>0.731787</td>\n",
       "      <td>-1.238278</td>\n",
       "      <td>-0.347338</td>\n",
       "      <td>-0.3253</td>\n",
       "    </tr>\n",
       "    <tr>\n",
       "      <td>2</td>\n",
       "      <td>-0.315819</td>\n",
       "      <td>-0.755929</td>\n",
       "      <td>2.498625</td>\n",
       "      <td>-0.499470</td>\n",
       "      <td>-0.400248</td>\n",
       "      <td>-0.463874</td>\n",
       "      <td>-0.257036</td>\n",
       "      <td>2.243165</td>\n",
       "      <td>0.244279</td>\n",
       "      <td>-0.664957</td>\n",
       "      <td>0.807573</td>\n",
       "      <td>-0.347338</td>\n",
       "      <td>-0.3253</td>\n",
       "    </tr>\n",
       "    <tr>\n",
       "      <td>3</td>\n",
       "      <td>0.873482</td>\n",
       "      <td>-0.755929</td>\n",
       "      <td>-0.202543</td>\n",
       "      <td>-0.499470</td>\n",
       "      <td>-0.400248</td>\n",
       "      <td>-0.482248</td>\n",
       "      <td>-0.257036</td>\n",
       "      <td>-0.677841</td>\n",
       "      <td>1.245346</td>\n",
       "      <td>-0.664957</td>\n",
       "      <td>0.807573</td>\n",
       "      <td>-0.347338</td>\n",
       "      <td>-0.3253</td>\n",
       "    </tr>\n",
       "    <tr>\n",
       "      <td>4</td>\n",
       "      <td>0.873482</td>\n",
       "      <td>1.322876</td>\n",
       "      <td>-0.588425</td>\n",
       "      <td>0.616992</td>\n",
       "      <td>0.619896</td>\n",
       "      <td>-0.417269</td>\n",
       "      <td>-0.257036</td>\n",
       "      <td>-0.677841</td>\n",
       "      <td>-0.756787</td>\n",
       "      <td>0.731787</td>\n",
       "      <td>-1.238278</td>\n",
       "      <td>-0.347338</td>\n",
       "      <td>-0.3253</td>\n",
       "    </tr>\n",
       "  </tbody>\n",
       "</table>\n",
       "</div>"
      ],
      "text/plain": [
       "     Pclass       Sex       Age     SibSp     Parch      Fare     Cabin  \\\n",
       "0  0.873482 -0.755929  0.376278 -0.499470 -0.400248 -0.497185 -0.257036   \n",
       "1  0.873482  1.322876  1.340981  0.616992 -0.400248 -0.512048 -0.257036   \n",
       "2 -0.315819 -0.755929  2.498625 -0.499470 -0.400248 -0.463874 -0.257036   \n",
       "3  0.873482 -0.755929 -0.202543 -0.499470 -0.400248 -0.482248 -0.257036   \n",
       "4  0.873482  1.322876 -0.588425  0.616992  0.619896 -0.417269 -0.257036   \n",
       "\n",
       "   Embarked     Title  FamillySize   IsAlone   IsChild  TicketSurvivor  \n",
       "0  2.243165 -0.756787    -0.664957  0.807573 -0.347338         -0.3253  \n",
       "1 -0.677841  1.245346     0.731787 -1.238278 -0.347338         -0.3253  \n",
       "2  2.243165  0.244279    -0.664957  0.807573 -0.347338         -0.3253  \n",
       "3 -0.677841  1.245346    -0.664957  0.807573 -0.347338         -0.3253  \n",
       "4 -0.677841 -0.756787     0.731787 -1.238278 -0.347338         -0.3253  "
      ]
     },
     "execution_count": 95,
     "metadata": {},
     "output_type": "execute_result"
    }
   ],
   "source": [
    "## Aplying model on test data set\n",
    "\n",
    "test = test_data.copy()\n",
    "test = preprocess_data(test)\n",
    "test = pd.DataFrame(scale.fit_transform(test.values), index=test.index, columns=test.columns)\n",
    "test.head()"
   ]
  },
  {
   "cell_type": "markdown",
   "metadata": {},
   "source": [
    "### AN OUTPUT FILE WILL BE CREATED WITH NAME 'Passernger_Survival_Predicted_Output'"
   ]
  },
  {
   "cell_type": "code",
   "execution_count": 96,
   "metadata": {},
   "outputs": [
    {
     "name": "stdout",
     "output_type": "stream",
     "text": [
      "Fitting models\n",
      "Making and combining predictions\n"
     ]
    }
   ],
   "source": [
    "# Create and train model on train data sample\n",
    "model_test = EsemblingClassifier()\n",
    "model_test.fit(X, Y)\n",
    "\n",
    "# Predict for test data sample\n",
    "prediction = model_test.predict(test)\n",
    "\n",
    "predicted_output = test_data.copy()\n",
    "predicted_output['Survived'] = prediction\n",
    "predicted_output.to_csv('Passernger_Survival_Predicted_Output.csv', columns=['PassengerId', 'Survived'], index=False)"
   ]
  },
  {
   "cell_type": "markdown",
   "metadata": {},
   "source": [
    "### MODEL COMPARISON"
   ]
  },
  {
   "cell_type": "code",
   "execution_count": 57,
   "metadata": {},
   "outputs": [
    {
     "data": {
      "text/html": [
       "<div>\n",
       "<style scoped>\n",
       "    .dataframe tbody tr th:only-of-type {\n",
       "        vertical-align: middle;\n",
       "    }\n",
       "\n",
       "    .dataframe tbody tr th {\n",
       "        vertical-align: top;\n",
       "    }\n",
       "\n",
       "    .dataframe thead th {\n",
       "        text-align: right;\n",
       "    }\n",
       "</style>\n",
       "<table border=\"1\" class=\"dataframe\">\n",
       "  <thead>\n",
       "    <tr style=\"text-align: right;\">\n",
       "      <th></th>\n",
       "      <th>Logistic Regression</th>\n",
       "      <th>Decision_Tree</th>\n",
       "      <th>SVM</th>\n",
       "      <th>RandomForest</th>\n",
       "      <th>NeuralNetwork</th>\n",
       "    </tr>\n",
       "  </thead>\n",
       "  <tbody>\n",
       "    <tr>\n",
       "      <td>Accuracy</td>\n",
       "      <td>0.821229</td>\n",
       "      <td>0.849162</td>\n",
       "      <td>0.849162</td>\n",
       "      <td>0.860335</td>\n",
       "      <td>0.837989</td>\n",
       "    </tr>\n",
       "    <tr>\n",
       "      <td>Precision</td>\n",
       "      <td>0.808824</td>\n",
       "      <td>0.805195</td>\n",
       "      <td>0.873016</td>\n",
       "      <td>0.845070</td>\n",
       "      <td>0.868852</td>\n",
       "    </tr>\n",
       "    <tr>\n",
       "      <td>recall</td>\n",
       "      <td>0.743243</td>\n",
       "      <td>0.837838</td>\n",
       "      <td>0.743243</td>\n",
       "      <td>0.810811</td>\n",
       "      <td>0.716216</td>\n",
       "    </tr>\n",
       "    <tr>\n",
       "      <td>F1_score</td>\n",
       "      <td>0.774648</td>\n",
       "      <td>0.821192</td>\n",
       "      <td>0.802920</td>\n",
       "      <td>0.827586</td>\n",
       "      <td>0.785185</td>\n",
       "    </tr>\n",
       "  </tbody>\n",
       "</table>\n",
       "</div>"
      ],
      "text/plain": [
       "           Logistic Regression  Decision_Tree       SVM  RandomForest  \\\n",
       "Accuracy              0.821229       0.849162  0.849162      0.860335   \n",
       "Precision             0.808824       0.805195  0.873016      0.845070   \n",
       "recall                0.743243       0.837838  0.743243      0.810811   \n",
       "F1_score              0.774648       0.821192  0.802920      0.827586   \n",
       "\n",
       "           NeuralNetwork  \n",
       "Accuracy        0.837989  \n",
       "Precision       0.868852  \n",
       "recall          0.716216  \n",
       "F1_score        0.785185  "
      ]
     },
     "execution_count": 57,
     "metadata": {},
     "output_type": "execute_result"
    }
   ],
   "source": [
    "# Python code demonstrate creating  \n",
    "# pandas DataFrame with indexed by  \n",
    "  \n",
    "# DataFrame using arrays. \n",
    "import pandas as pd \n",
    "  \n",
    "# initialise data of lists. \n",
    "data = {'Logistic Regression':[accuracy_score_logistic,precision_score_logistic,recall_score_logistic,f1_score_logistic],\n",
    "        'Decision_Tree':[accuracy_score_decision,precision_score_decision,recall_score_decision,f1_score_decision],\n",
    "        'SVM':[accuracy_score_svm,precision_score_svm,recall_score_svm,f1_score_svm],\n",
    "        'RandomForest' :[accuracy_score_rf,precision_score_rf,recall_score_rf,f1_score_rf],\n",
    "        'NeuralNetwork' :[accuracy_score_ann,precision_score_ann,recall_score_ann,f1_score_ann]\n",
    "       \n",
    "       \n",
    "       } \n",
    "  \n",
    "# Creates pandas DataFrame. \n",
    "df = pd.DataFrame(data, index = ['Accuracy','Precision','recall','F1_score']) \n",
    "  \n",
    "# print the data \n",
    "df "
   ]
  },
  {
   "cell_type": "markdown",
   "metadata": {},
   "source": [
    "### Applying Voting Classifier on the above models"
   ]
  },
  {
   "cell_type": "markdown",
   "metadata": {},
   "source": [
    "### Hard Voting"
   ]
  },
  {
   "cell_type": "code",
   "execution_count": 58,
   "metadata": {},
   "outputs": [],
   "source": [
    "voting_clf_Hard = VotingClassifier(\n",
    "    estimators=[('lr', lg), ('rf', rf), ('svc', svm),('dt',dt)],\n",
    "    voting='hard')"
   ]
  },
  {
   "cell_type": "code",
   "execution_count": 59,
   "metadata": {},
   "outputs": [
    {
     "data": {
      "text/plain": [
       "VotingClassifier(estimators=[('lr', LogisticRegression(random_state=42)),\n",
       "                             ('rf',\n",
       "                              RandomForestClassifier(n_estimators=200,\n",
       "                                                     random_state=42)),\n",
       "                             ('svc',\n",
       "                              SVC(gamma='auto', probability=True,\n",
       "                                  random_state=42)),\n",
       "                             ('dt',\n",
       "                              DecisionTreeClassifier(min_samples_leaf=20,\n",
       "                                                     min_samples_split=15,\n",
       "                                                     random_state=42))])"
      ]
     },
     "execution_count": 59,
     "metadata": {},
     "output_type": "execute_result"
    }
   ],
   "source": [
    "voting_clf_Hard.fit(X_train, Y_train)"
   ]
  },
  {
   "cell_type": "code",
   "execution_count": 60,
   "metadata": {},
   "outputs": [
    {
     "name": "stdout",
     "output_type": "stream",
     "text": [
      "LogisticRegression 0.8212290502793296\n",
      "RandomForestClassifier 0.8603351955307262\n",
      "SVC 0.8491620111731844\n",
      "DecisionTreeClassifier 0.8491620111731844\n",
      "VotingClassifier 0.8659217877094972\n"
     ]
    }
   ],
   "source": [
    "from sklearn.metrics import accuracy_score\n",
    "\n",
    "for clf in (lg, rf, svm, dt,voting_clf_Hard):\n",
    "    clf.fit(X_train, Y_train)\n",
    "    y_pred_hard = clf.predict(X_test)\n",
    "    print(clf.__class__.__name__, accuracy_score(Y_test, y_pred_hard))"
   ]
  },
  {
   "cell_type": "markdown",
   "metadata": {},
   "source": [
    "#### SOFT VOTING"
   ]
  },
  {
   "cell_type": "code",
   "execution_count": 61,
   "metadata": {},
   "outputs": [],
   "source": [
    "voting_clf_Soft = VotingClassifier(\n",
    "    estimators=[('lr', lg), ('rf', rf), ('svc', svm),('dt',dt)],\n",
    "    voting='soft')"
   ]
  },
  {
   "cell_type": "code",
   "execution_count": 62,
   "metadata": {},
   "outputs": [
    {
     "data": {
      "text/plain": [
       "VotingClassifier(estimators=[('lr', LogisticRegression(random_state=42)),\n",
       "                             ('rf',\n",
       "                              RandomForestClassifier(n_estimators=200,\n",
       "                                                     random_state=42)),\n",
       "                             ('svc',\n",
       "                              SVC(gamma='auto', probability=True,\n",
       "                                  random_state=42)),\n",
       "                             ('dt',\n",
       "                              DecisionTreeClassifier(min_samples_leaf=20,\n",
       "                                                     min_samples_split=15,\n",
       "                                                     random_state=42))],\n",
       "                 voting='soft')"
      ]
     },
     "execution_count": 62,
     "metadata": {},
     "output_type": "execute_result"
    }
   ],
   "source": [
    "voting_clf_Soft.fit(X_train, Y_train)"
   ]
  },
  {
   "cell_type": "code",
   "execution_count": 63,
   "metadata": {},
   "outputs": [
    {
     "name": "stdout",
     "output_type": "stream",
     "text": [
      "LogisticRegression 0.8212290502793296\n",
      "RandomForestClassifier 0.8603351955307262\n",
      "SVC 0.8491620111731844\n",
      "DecisionTreeClassifier 0.8491620111731844\n",
      "VotingClassifier 0.8603351955307262\n"
     ]
    }
   ],
   "source": [
    "from sklearn.metrics import accuracy_score\n",
    "\n",
    "for clf_soft in (lg, rf, svm, dt,voting_clf_Soft):\n",
    "    clf_soft.fit(X_train, Y_train)\n",
    "    y_pred_Soft = clf_soft.predict(X_test)\n",
    "    print(clf_soft.__class__.__name__, accuracy_score(Y_test, y_pred_Soft))"
   ]
  },
  {
   "cell_type": "markdown",
   "metadata": {},
   "source": [
    "#### ACCURACY VALUES : HARD VOTING"
   ]
  },
  {
   "cell_type": "markdown",
   "metadata": {},
   "source": [
    "LogisticRegression 0.8268156424581006\n",
    "\n",
    "RandomForestClassifier 0.8603351955307262\n",
    "\n",
    "SVC 0.8547486033519553\n",
    "\n",
    "DecisionTreeClassifier 0.8491620111731844\n",
    "\n",
    "VotingClassifier 0.8659217877094972"
   ]
  },
  {
   "cell_type": "markdown",
   "metadata": {},
   "source": [
    "#### ACCURACY VALUES : SOFT VOTING"
   ]
  },
  {
   "cell_type": "markdown",
   "metadata": {},
   "source": [
    "LogisticRegression 0.8268156424581006\n",
    "\n",
    "RandomForestClassifier 0.8603351955307262\n",
    "\n",
    "SVC 0.8547486033519553\n",
    "\n",
    "DecisionTreeClassifier 0.8491620111731844\n",
    "\n",
    "VotingClassifier 0.8547486033519553"
   ]
  },
  {
   "cell_type": "markdown",
   "metadata": {},
   "source": [
    "### USING HYPER PARAMETER TUNING"
   ]
  },
  {
   "cell_type": "markdown",
   "metadata": {},
   "source": [
    "#### Logistic regression using Hyper parameter tuning"
   ]
  },
  {
   "cell_type": "code",
   "execution_count": 64,
   "metadata": {},
   "outputs": [],
   "source": [
    "logistic = linear_model.LogisticRegression()"
   ]
  },
  {
   "cell_type": "code",
   "execution_count": 65,
   "metadata": {},
   "outputs": [],
   "source": [
    "# Create regularization penalty space\n",
    "penalty = ['l1', 'l2']\n",
    "\n",
    "# Create regularization hyperparameter space\n",
    "C = np.logspace(0, 4, 10)\n",
    "\n",
    "# Create hyperparameter options\n",
    "hyperparameters = dict(C=C, penalty=penalty)"
   ]
  },
  {
   "cell_type": "code",
   "execution_count": 66,
   "metadata": {},
   "outputs": [],
   "source": [
    "# Create grid search using 5-fold cross validation\n",
    "clf = GridSearchCV(logistic, hyperparameters, cv=5, verbose=0)"
   ]
  },
  {
   "cell_type": "code",
   "execution_count": 67,
   "metadata": {},
   "outputs": [],
   "source": [
    "# Fit grid search\n",
    "gs_logistic = clf.fit(X_train, Y_train)\n"
   ]
  },
  {
   "cell_type": "code",
   "execution_count": 68,
   "metadata": {},
   "outputs": [
    {
     "name": "stdout",
     "output_type": "stream",
     "text": [
      "Best Penalty: l2\n",
      "Best C: 7.742636826811269\n"
     ]
    }
   ],
   "source": [
    "# View best hyperparameters\n",
    "print('Best Penalty:', gs_logistic.best_estimator_.get_params()['penalty'])\n",
    "print('Best C:', gs_logistic.best_estimator_.get_params()['C'])"
   ]
  },
  {
   "cell_type": "code",
   "execution_count": 69,
   "metadata": {},
   "outputs": [],
   "source": [
    "clf_best_logistic = LogisticRegression(penalty='l2',C=1)"
   ]
  },
  {
   "cell_type": "code",
   "execution_count": 70,
   "metadata": {},
   "outputs": [],
   "source": [
    "clf_best_logistic.fit(X_train, Y_train)\n",
    "hypertuned_logistic_pred =clf.predict(X_test)\n"
   ]
  },
  {
   "cell_type": "code",
   "execution_count": 71,
   "metadata": {},
   "outputs": [
    {
     "name": "stdout",
     "output_type": "stream",
     "text": [
      "Hypertuned Logistic regression model Accuracy Score is : 0.8268156424581006\n",
      "Hypertuned Logistic regression model Precision Score is : 0.8208955223880597\n",
      "Hypertuned Logistic regression model Recall Score is: 0.7432432432432432\n",
      "Hypertuned Logistic regression model F1 Score is : 0.7801418439716312\n"
     ]
    }
   ],
   "source": [
    "confusion_matrix(Y_test,hypertuned_logistic_pred)\n",
    "print('Hypertuned Logistic regression model Accuracy Score is : ' + str(metrics.accuracy_score(Y_test,hypertuned_logistic_pred)))\n",
    "print('Hypertuned Logistic regression model Precision Score is : ' + str(precision_score(Y_test,hypertuned_logistic_pred)))\n",
    "print('Hypertuned Logistic regression model Recall Score is: ' + str(recall_score(Y_test,hypertuned_logistic_pred)))\n",
    "print('Hypertuned Logistic regression model F1 Score is : ' + str(f1_score(Y_test,hypertuned_logistic_pred)))"
   ]
  },
  {
   "cell_type": "code",
   "execution_count": 72,
   "metadata": {},
   "outputs": [
    {
     "name": "stdout",
     "output_type": "stream",
     "text": [
      "0.8385714285714286\n"
     ]
    }
   ],
   "source": [
    "logistic_hypert_cv_scores = cross_val_score(clf_best_logistic,X_train,Y_train,\n",
    "                                scoring=\"accuracy\", cv=20)\n",
    "print(logistic_hypert_cv_scores.mean())"
   ]
  },
  {
   "cell_type": "markdown",
   "metadata": {},
   "source": [
    "### Hyperparamater tuning on Decision Tree "
   ]
  },
  {
   "cell_type": "code",
   "execution_count": 73,
   "metadata": {},
   "outputs": [
    {
     "name": "stdout",
     "output_type": "stream",
     "text": [
      "Fitting 3 folds for each of 294 candidates, totalling 882 fits\n"
     ]
    },
    {
     "name": "stderr",
     "output_type": "stream",
     "text": [
      "[Parallel(n_jobs=1)]: Using backend SequentialBackend with 1 concurrent workers.\n",
      "[Parallel(n_jobs=1)]: Done 882 out of 882 | elapsed:    8.6s finished\n"
     ]
    },
    {
     "data": {
      "text/plain": [
       "GridSearchCV(cv=3, estimator=DecisionTreeClassifier(random_state=42),\n",
       "             param_grid={'max_leaf_nodes': [2, 3, 4, 5, 6, 7, 8, 9, 10, 11, 12,\n",
       "                                            13, 14, 15, 16, 17, 18, 19, 20, 21,\n",
       "                                            22, 23, 24, 25, 26, 27, 28, 29, 30,\n",
       "                                            31, ...],\n",
       "                         'min_samples_split': [2, 3, 4]},\n",
       "             verbose=1)"
      ]
     },
     "execution_count": 73,
     "metadata": {},
     "output_type": "execute_result"
    }
   ],
   "source": [
    "from sklearn.tree import DecisionTreeClassifier\n",
    "from sklearn.model_selection import GridSearchCV\n",
    "params = {'max_leaf_nodes': list(range(2, 100)), 'min_samples_split': [2, 3, 4]}\n",
    "grid_search_cv_Decision_Tree = GridSearchCV(DecisionTreeClassifier(random_state=42), params, verbose=1, cv=3)\n",
    "grid_search_cv_Decision_Tree.fit(X_train, Y_train)\n"
   ]
  },
  {
   "cell_type": "code",
   "execution_count": 74,
   "metadata": {},
   "outputs": [
    {
     "data": {
      "text/plain": [
       "DecisionTreeClassifier(max_leaf_nodes=13, random_state=42)"
      ]
     },
     "execution_count": 74,
     "metadata": {},
     "output_type": "execute_result"
    }
   ],
   "source": [
    "grid_search_cv_Decision_Tree.best_estimator_"
   ]
  },
  {
   "cell_type": "code",
   "execution_count": 75,
   "metadata": {},
   "outputs": [
    {
     "data": {
      "text/plain": [
       "{'max_leaf_nodes': 13, 'min_samples_split': 2}"
      ]
     },
     "execution_count": 75,
     "metadata": {},
     "output_type": "execute_result"
    }
   ],
   "source": [
    "grid_search_cv_Decision_Tree.best_params_"
   ]
  },
  {
   "cell_type": "code",
   "execution_count": 76,
   "metadata": {},
   "outputs": [
    {
     "data": {
      "text/plain": [
       "0.8398929191929937"
      ]
     },
     "execution_count": 76,
     "metadata": {},
     "output_type": "execute_result"
    }
   ],
   "source": [
    "grid_search_cv_Decision_Tree.best_score_"
   ]
  },
  {
   "cell_type": "code",
   "execution_count": 77,
   "metadata": {},
   "outputs": [
    {
     "name": "stdout",
     "output_type": "stream",
     "text": [
      "Hypertuned Decision Tree model Accuracy Score is : 0.8547486033519553\n",
      "Hypertuned Decision Tree model Precision Score is : 0.8870967741935484\n",
      "Hypertuned Decision Tree model Recall Score is: 0.7432432432432432\n",
      "Hypertuned Decision Tree model F1 Score is : 0.8088235294117647\n"
     ]
    }
   ],
   "source": [
    "Hypertuned_Decision_Tree_Classifier = DecisionTreeClassifier(min_samples_split=2, min_samples_leaf=10, random_state=42)\n",
    "Hypertuned_Decision_Tree_Classifier.fit(X_train, Y_train)\n",
    "hypertuned_Dt_pred = Hypertuned_Decision_Tree_Classifier.predict(X_test)\n",
    "\n",
    "confusion_matrix(Y_test,hypertuned_Dt_pred)\n",
    "print('Hypertuned Decision Tree model Accuracy Score is : ' + str(metrics.accuracy_score(Y_test,hypertuned_Dt_pred)))\n",
    "print('Hypertuned Decision Tree model Precision Score is : ' + str(precision_score(Y_test,hypertuned_Dt_pred)))\n",
    "print('Hypertuned Decision Tree model Recall Score is: ' + str(recall_score(Y_test,hypertuned_Dt_pred)))\n",
    "print('Hypertuned Decision Tree model F1 Score is : ' + str(f1_score(Y_test,hypertuned_Dt_pred)))\n"
   ]
  },
  {
   "cell_type": "code",
   "execution_count": 78,
   "metadata": {},
   "outputs": [
    {
     "name": "stdout",
     "output_type": "stream",
     "text": [
      "0.8355158730158729\n"
     ]
    }
   ],
   "source": [
    "hypertuned_Dt_cv_scores = cross_val_score(Hypertuned_Decision_Tree_Classifier,X_train,Y_train,\n",
    "                                scoring=\"accuracy\", cv=20)\n",
    "print(hypertuned_Dt_cv_scores.mean())"
   ]
  },
  {
   "cell_type": "markdown",
   "metadata": {},
   "source": [
    "### Hyperparameter Tuning : Support Vector Machine"
   ]
  },
  {
   "cell_type": "code",
   "execution_count": 79,
   "metadata": {},
   "outputs": [],
   "source": [
    "SVM_model = SVC(max_iter=10000)"
   ]
  },
  {
   "cell_type": "code",
   "execution_count": 80,
   "metadata": {},
   "outputs": [],
   "source": [
    "params = [{'C': [0.001, 0.01, 0.1, 1, 10, 100, 1000],\n",
    "           'kernel': ['linear', 'poly', 'rbf', 'sigmoid']}]"
   ]
  },
  {
   "cell_type": "code",
   "execution_count": 81,
   "metadata": {},
   "outputs": [
    {
     "data": {
      "text/plain": [
       "GridSearchCV(cv=RepeatedStratifiedKFold(n_repeats=10, n_splits=5, random_state=42),\n",
       "             estimator=SVC(max_iter=10000), n_jobs=-1,\n",
       "             param_grid=[{'C': [0.001, 0.01, 0.1, 1, 10, 100, 1000],\n",
       "                          'kernel': ['linear', 'poly', 'rbf', 'sigmoid']}])"
      ]
     },
     "execution_count": 81,
     "metadata": {},
     "output_type": "execute_result"
    }
   ],
   "source": [
    "cv = RepeatedStratifiedKFold(n_splits=5, n_repeats=10, random_state= 42)\n",
    "Gs_svm = GridSearchCV(SVM_model, params, cv=cv, n_jobs=-1)\n",
    "Gs_svm.fit(X_train, Y_train)\n"
   ]
  },
  {
   "cell_type": "code",
   "execution_count": 82,
   "metadata": {},
   "outputs": [
    {
     "data": {
      "text/plain": [
       "{'C': 1, 'kernel': 'rbf'}"
      ]
     },
     "execution_count": 82,
     "metadata": {},
     "output_type": "execute_result"
    }
   ],
   "source": [
    "Gs_svm.best_params_"
   ]
  },
  {
   "cell_type": "code",
   "execution_count": 83,
   "metadata": {},
   "outputs": [
    {
     "data": {
      "text/plain": [
       "0.8361242982369744"
      ]
     },
     "execution_count": 83,
     "metadata": {},
     "output_type": "execute_result"
    }
   ],
   "source": [
    "Gs_svm.best_score_"
   ]
  },
  {
   "cell_type": "code",
   "execution_count": 84,
   "metadata": {},
   "outputs": [],
   "source": [
    "Hypertuned_SVM = sklearn.svm.SVC(C=1.0, kernel='rbf')"
   ]
  },
  {
   "cell_type": "code",
   "execution_count": 85,
   "metadata": {},
   "outputs": [
    {
     "name": "stdout",
     "output_type": "stream",
     "text": [
      "Hypertuned SVM Accuracy Score is : 0.8491620111731844\n",
      "Hypertuned SVM Precision Score is : 0.873015873015873\n",
      "Hypertuned SVM Recall Score is: 0.7432432432432432\n",
      "Hypertuned SVM F1 Score is : 0.8029197080291971\n"
     ]
    }
   ],
   "source": [
    "Hypertuned_SVM.fit(X_train, Y_train)\n",
    "hypertuned_SVM_pred = Hypertuned_SVM.predict(X_test)\n",
    "\n",
    "confusion_matrix(Y_test,hypertuned_SVM_pred)\n",
    "print('Hypertuned SVM Accuracy Score is : ' + str(metrics.accuracy_score(Y_test,hypertuned_SVM_pred)))\n",
    "print('Hypertuned SVM Precision Score is : ' + str(precision_score(Y_test,hypertuned_SVM_pred)))\n",
    "print('Hypertuned SVM Recall Score is: ' + str(recall_score(Y_test,hypertuned_SVM_pred)))\n",
    "print('Hypertuned SVM F1 Score is : ' + str(f1_score(Y_test,hypertuned_SVM_pred)))"
   ]
  },
  {
   "cell_type": "code",
   "execution_count": 86,
   "metadata": {},
   "outputs": [
    {
     "name": "stdout",
     "output_type": "stream",
     "text": [
      "0.8328968253968254\n"
     ]
    }
   ],
   "source": [
    "hypertuned_SVM_cv_scores = cross_val_score(Hypertuned_SVM,X_train,Y_train,\n",
    "                                scoring=\"accuracy\", cv=20)\n",
    "print(hypertuned_SVM_cv_scores.mean())"
   ]
  },
  {
   "cell_type": "markdown",
   "metadata": {},
   "source": [
    "### Hyperparameter tuning on Random Forest Model"
   ]
  },
  {
   "cell_type": "code",
   "execution_count": 87,
   "metadata": {},
   "outputs": [
    {
     "data": {
      "text/plain": [
       "GridSearchCV(cv=5, estimator=RandomForestClassifier(random_state=42),\n",
       "             param_grid=[{'max_features': [2, 4, 6, 8],\n",
       "                          'n_estimators': [3, 10, 30]},\n",
       "                         {'bootstrap': [False], 'max_features': [2, 3, 4],\n",
       "                          'n_estimators': [3, 10]}],\n",
       "             return_train_score=True, scoring='neg_mean_squared_error')"
      ]
     },
     "execution_count": 87,
     "metadata": {},
     "output_type": "execute_result"
    }
   ],
   "source": [
    "from sklearn.model_selection import GridSearchCV\n",
    "\n",
    "param_grid = [\n",
    "    # try 12 (3×4) combinations of hyperparameters\n",
    "    {'n_estimators': [3, 10, 30], 'max_features': [2, 4, 6, 8]},\n",
    "    # then try 6 (2×3) combinations with bootstrap set as False\n",
    "    {'bootstrap': [False], 'n_estimators': [3, 10], 'max_features': [2, 3, 4]},\n",
    "  ]\n",
    "\n",
    "forest_reg = RandomForestClassifier(random_state=42)\n",
    "# train across 5 folds, that's a total of (12+6)*5=90 rounds of training \n",
    "grid_search = GridSearchCV(forest_reg, param_grid, cv=5,\n",
    "                           scoring='neg_mean_squared_error',\n",
    "                           return_train_score=True)\n",
    "grid_search.fit(X_train,Y_train)"
   ]
  },
  {
   "cell_type": "code",
   "execution_count": 88,
   "metadata": {},
   "outputs": [
    {
     "data": {
      "text/plain": [
       "{'max_features': 4, 'n_estimators': 10}"
      ]
     },
     "execution_count": 88,
     "metadata": {},
     "output_type": "execute_result"
    }
   ],
   "source": [
    "grid_search.best_params_"
   ]
  },
  {
   "cell_type": "code",
   "execution_count": 89,
   "metadata": {},
   "outputs": [
    {
     "data": {
      "text/plain": [
       "RandomForestClassifier(max_features=4, n_estimators=10, random_state=42)"
      ]
     },
     "execution_count": 89,
     "metadata": {},
     "output_type": "execute_result"
    }
   ],
   "source": [
    "grid_search.best_estimator_"
   ]
  },
  {
   "cell_type": "code",
   "execution_count": 90,
   "metadata": {},
   "outputs": [],
   "source": [
    "Hypertuned_Random_Forest = sklearn.ensemble.RandomForestClassifier(n_estimators=30,max_features=4,random_state=42)"
   ]
  },
  {
   "cell_type": "code",
   "execution_count": 91,
   "metadata": {},
   "outputs": [
    {
     "name": "stdout",
     "output_type": "stream",
     "text": [
      "Hypertuned RF Accuracy Score is : 0.8659217877094972\n",
      "Hypertuned RF Precision Score is : 0.8676470588235294\n",
      "Hypertuned RF Recall Score is: 0.7972972972972973\n",
      "Hypertuned RF F1 Score is : 0.8309859154929577\n"
     ]
    }
   ],
   "source": [
    "Hypertuned_Random_Forest.fit(X_train, Y_train)\n",
    "hypertuned_RF_pred = Hypertuned_Random_Forest.predict(X_test)\n",
    "\n",
    "confusion_matrix(Y_test,hypertuned_RF_pred)\n",
    "print('Hypertuned RF Accuracy Score is : ' + str(metrics.accuracy_score(Y_test,hypertuned_RF_pred)))\n",
    "print('Hypertuned RF Precision Score is : ' + str(precision_score(Y_test,hypertuned_RF_pred)))\n",
    "print('Hypertuned RF Recall Score is: ' + str(recall_score(Y_test,hypertuned_RF_pred)))\n",
    "print('Hypertuned RF F1 Score is : ' + str(f1_score(Y_test,hypertuned_RF_pred)))"
   ]
  },
  {
   "cell_type": "code",
   "execution_count": 92,
   "metadata": {},
   "outputs": [
    {
     "name": "stdout",
     "output_type": "stream",
     "text": [
      "0.8177380952380954\n"
     ]
    }
   ],
   "source": [
    "hypertuned_RF_cv_scores = cross_val_score(Hypertuned_Random_Forest,X_train,Y_train,\n",
    "                                scoring=\"accuracy\", cv=20)\n",
    "print(hypertuned_RF_cv_scores.mean())"
   ]
  },
  {
   "cell_type": "markdown",
   "metadata": {},
   "source": [
    "### HYPERTUNED MODEL SCORES"
   ]
  },
  {
   "cell_type": "markdown",
   "metadata": {},
   "source": [
    "##### LOGISTIC REGRESSION:\n",
    "    \n",
    "Accuracy Score is : 0.8268156424581006\n",
    "\n",
    "Precision Score is : 0.8028169014084507\n",
    "    \n",
    "Recall Score is: 0.7702702702702703\n",
    "    \n",
    "F1 Score is : 0.7862068965517242"
   ]
  },
  {
   "cell_type": "markdown",
   "metadata": {},
   "source": [
    "##### DECISION TREE\n",
    "\n",
    "Accuracy Score is : 0.8770949720670391\n",
    "\n",
    "Precision Score is : 0.8939393939393939\n",
    "\n",
    "Recall Score is: 0.7972972972972973\n",
    "\n",
    "F1 Score is : 0.8428571428571429"
   ]
  },
  {
   "cell_type": "markdown",
   "metadata": {},
   "source": [
    "##### Random Forest Model\n",
    "\n",
    "Accuracy Score is : 0.8491620111731844\n",
    "\n",
    "Precision Score is : 0.8405797101449275\n",
    "\n",
    "Recall Score is: 0.7837837837837838\n",
    "\n",
    "F1 Score is : 0.8111888111888113"
   ]
  },
  {
   "cell_type": "markdown",
   "metadata": {},
   "source": [
    "##### SUPPORT VECTOR MACHINE\n",
    "\n",
    "Accuracy Score is : 0.8547486033519553\n",
    "\n",
    "Precision Score is : 0.8870967741935484\n",
    "\n",
    "Recall Score is: 0.7432432432432432\n",
    "\n",
    "F1 Score is : 0.8088235294117647"
   ]
  },
  {
   "cell_type": "code",
   "execution_count": null,
   "metadata": {},
   "outputs": [],
   "source": []
  },
  {
   "cell_type": "markdown",
   "metadata": {},
   "source": [
    "### Hyperparameter Tuned Models : Applying Voting Classifier"
   ]
  },
  {
   "cell_type": "markdown",
   "metadata": {},
   "source": [
    "#### Hyperparameter models : Hard Voting"
   ]
  },
  {
   "cell_type": "code",
   "execution_count": 93,
   "metadata": {},
   "outputs": [
    {
     "name": "stdout",
     "output_type": "stream",
     "text": [
      "LogisticRegression 0.8212290502793296\n",
      "RandomForestClassifier 0.8603351955307262\n",
      "SVC 0.8491620111731844\n",
      "DecisionTreeClassifier 0.8491620111731844\n",
      "VotingClassifier 0.8715083798882681\n"
     ]
    }
   ],
   "source": [
    "\n",
    "voting_clf_Hard_Hypertuned = VotingClassifier(\n",
    "    estimators=[('lr', clf_best_logistic), ('rf', Hypertuned_Random_Forest), ('svc', Hypertuned_SVM),('dt',Hypertuned_Decision_Tree_Classifier)],\n",
    "    voting='hard')\n",
    "\n",
    "voting_clf_Hard_Hypertuned.fit(X_train, Y_train)\n",
    "\n",
    "from sklearn.metrics import accuracy_score\n",
    "\n",
    "for clf in (lg, rf, svm, dt,voting_clf_Hard_Hypertuned):\n",
    "    clf.fit(X_train, Y_train)\n",
    "    y_pred_hard_hyper = clf.predict(X_test)\n",
    "    print(clf.__class__.__name__, accuracy_score(Y_test, y_pred_hard_hyper))"
   ]
  },
  {
   "cell_type": "markdown",
   "metadata": {},
   "source": [
    "#### Hyperparameter models : Soft Voting"
   ]
  },
  {
   "cell_type": "code",
   "execution_count": 94,
   "metadata": {},
   "outputs": [
    {
     "name": "stdout",
     "output_type": "stream",
     "text": [
      "LogisticRegression 0.8212290502793296\n",
      "RandomForestClassifier 0.8603351955307262\n",
      "SVC 0.8491620111731844\n",
      "DecisionTreeClassifier 0.8491620111731844\n",
      "VotingClassifier 0.8715083798882681\n"
     ]
    }
   ],
   "source": [
    "\n",
    "voting_clf_Soft_Hypertuned = VotingClassifier(\n",
    "    estimators=[('lr', clf_best_logistic), ('rf', Hypertuned_Random_Forest), ('svc', Hypertuned_SVM),('dt',Hypertuned_Decision_Tree_Classifier)],\n",
    "    voting='hard')\n",
    "\n",
    "voting_clf_Soft_Hypertuned.fit(X_train, Y_train)\n",
    "\n",
    "from sklearn.metrics import accuracy_score\n",
    "\n",
    "for clf in (lg, rf, svm, dt,voting_clf_Soft_Hypertuned):\n",
    "    clf.fit(X_train, Y_train)\n",
    "    y_pred_soft_hyper = clf.predict(X_test)\n",
    "    print(clf.__class__.__name__, accuracy_score(Y_test, y_pred_soft_hyper))"
   ]
  },
  {
   "cell_type": "markdown",
   "metadata": {},
   "source": [
    "##### HARD VOTING : HYPERTUNED MODEL : ACCURACY VALUES\n",
    "\n",
    "LogisticRegression :  0.8268156424581006\n",
    "\n",
    "RandomForestClassifier :  0.8603351955307262\n",
    "\n",
    "SVC : 0.8547486033519553\n",
    "\n",
    "DecisionTreeClassifier : 0.8491620111731844\n",
    "\n",
    "VotingClassifier : 0.8715083798882681\n",
    "\n"
   ]
  },
  {
   "cell_type": "markdown",
   "metadata": {},
   "source": [
    "##### SOFT VOTING : HYPERTUNED MODEL : ACCURACY VALUES\n",
    "\n",
    "LogisticRegression : 0.8268156424581006\n",
    "\n",
    "RandomForestClassifier : 0.8603351955307262\n",
    "\n",
    "SVC : 0.8547486033519553\n",
    "\n",
    "DecisionTreeClassifier:  0.8491620111731844\n",
    "\n",
    "VotingClassifier : 0.8715083798882681"
   ]
  },
  {
   "cell_type": "markdown",
   "metadata": {},
   "source": [
    "### CONCLUSION:\n",
    "\n"
   ]
  },
  {
   "cell_type": "markdown",
   "metadata": {},
   "source": [
    "As part of our implementation we have applied the models on the data and compared the performance after applying hyperparamter tuning and observed that there is only minimal increase/decrease in the performance metrics such as Precision,Recall,F1_score and Accuracy. Accuracy has increased for decision tree and decrease for Random Forest after hyperparameter and tuning and there is no change for Support Vector Machine and Logistic Regression.\n",
    "\n",
    "There is an increases in precision  for Decision Tree and it decreases for Random Forest after hyperparamater tuninng.\n",
    "Recall value increases for Decision tree, Support Vector Machine and it decreases for Random Forest.\n",
    "\n",
    "F1_score increases for Decision Tree and decreases for Random Forest and there is no significant change on other models.\n",
    "\n",
    "##### AN OUTPUT FILE WILL BE CREATED WITH NAME 'Passernger_Survival_Predicted_Output' comparing the actual and predicted outcomes.\n"
   ]
  },
  {
   "cell_type": "code",
   "execution_count": null,
   "metadata": {},
   "outputs": [],
   "source": []
  }
 ],
 "metadata": {
  "kernelspec": {
   "display_name": "Python 3",
   "language": "python",
   "name": "python3"
  },
  "language_info": {
   "codemirror_mode": {
    "name": "ipython",
    "version": 3
   },
   "file_extension": ".py",
   "mimetype": "text/x-python",
   "name": "python",
   "nbconvert_exporter": "python",
   "pygments_lexer": "ipython3",
   "version": "3.7.4"
  }
 },
 "nbformat": 4,
 "nbformat_minor": 4
}
